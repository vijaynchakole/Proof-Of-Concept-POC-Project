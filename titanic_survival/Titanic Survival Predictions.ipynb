{
 "cells": [
  {
   "cell_type": "markdown",
   "metadata": {},
   "source": [
    "# Titanic Survival dataset "
   ]
  },
  {
   "cell_type": "code",
   "execution_count": null,
   "metadata": {},
   "outputs": [],
   "source": [
    "# For exploratory data analysis (EDA)\n",
    "import pandas_profiling"
   ]
  },
  {
   "cell_type": "code",
   "execution_count": null,
   "metadata": {},
   "outputs": [],
   "source": []
  },
  {
   "cell_type": "code",
   "execution_count": 9,
   "metadata": {},
   "outputs": [],
   "source": [
    "\n",
    "# import libraries\n",
    "\n",
    "# For data loading and manipulation\n",
    "import pandas as pd\n",
    "\n",
    "# For maths calculations\n",
    "import numpy as np\n",
    "\n",
    "# For exploratory data analysis (EDA)\n",
    "import pandas_profiling\n",
    "\n",
    "# For Data Visualization\n",
    "import matplotlib.pyplot as plt\n",
    "import seaborn as sns\n",
    "\n",
    "# For splitting data into train set and test set\n",
    "from sklearn.model_selection import train_test_split\n",
    "\n",
    "# Classification Algorithms\n",
    "from sklearn.ensemble import RandomForestClassifier\n",
    "from sklearn.svm import LinearSVC\n",
    "from sklearn.neighbors import KNeighborsClassifier\n",
    "from sklearn.svm import SVC\n",
    "from sklearn.linear_model import LogisticRegression\n",
    "\n",
    "# Hyperparameter Tuning\n",
    "# Hyperparameter Tuning using GridSearchCV\n",
    "from sklearn.model_selection import GridSearchCV\n",
    "# Hyperparameter Tuning using RandomizedSearchCV\n",
    "from sklearn.model_selection import RandomizedSearchCV\n",
    "\n",
    "# Model Evaluation\n",
    "from sklearn.metrics import confusion_matrix, classification_report\n",
    "from sklearn.metrics import precision_score, recall_score, f1_score\n",
    "from sklearn.metrics import accuracy_score\n",
    "\n",
    "# For evaluating various metrics \n",
    "from sklearn.model_selection import cross_val_score\n",
    "\n",
    "# For ROC curve\n",
    "from sklearn.metrics import roc_curve\n",
    "from sklearn.metrics import roc_auc_score\n",
    "from sklearn.metrics import plot_roc_curve\n",
    "\n",
    "\n",
    "# Exporting and importing a trained model\n",
    "from joblib import dump, load\n",
    "import pickle"
   ]
  },
  {
   "cell_type": "code",
   "execution_count": 12,
   "metadata": {},
   "outputs": [],
   "source": [
    "dataset = pd.read_csv('TitanicDataset.csv')"
   ]
  },
  {
   "cell_type": "code",
   "execution_count": null,
   "metadata": {},
   "outputs": [],
   "source": [
    "# create histogram plot\n",
    "plt.hist(dataset, bins=100)"
   ]
  },
  {
   "cell_type": "code",
   "execution_count": 1,
   "metadata": {},
   "outputs": [],
   "source": [
    "#pandas_profiling.ProfileReport(dataset)"
   ]
  },
  {
   "cell_type": "code",
   "execution_count": 3,
   "metadata": {},
   "outputs": [
    {
     "name": "stdout",
     "output_type": "stream",
     "text": [
      "<class 'pandas.core.frame.DataFrame'>\n",
      "RangeIndex: 1309 entries, 0 to 1308\n",
      "Data columns (total 10 columns):\n",
      "Passengerid    1309 non-null int64\n",
      "Age            1309 non-null float64\n",
      "Fare           1309 non-null float64\n",
      "Sex            1309 non-null int64\n",
      "sibsp          1309 non-null int64\n",
      "Parch          1309 non-null int64\n",
      "zero           1309 non-null int64\n",
      "Pclass         1309 non-null int64\n",
      "Embarked       1307 non-null float64\n",
      "Survived       1309 non-null int64\n",
      "dtypes: float64(3), int64(7)\n",
      "memory usage: 102.4 KB\n"
     ]
    },
    {
     "data": {
      "text/html": [
       "<div>\n",
       "<style scoped>\n",
       "    .dataframe tbody tr th:only-of-type {\n",
       "        vertical-align: middle;\n",
       "    }\n",
       "\n",
       "    .dataframe tbody tr th {\n",
       "        vertical-align: top;\n",
       "    }\n",
       "\n",
       "    .dataframe thead th {\n",
       "        text-align: right;\n",
       "    }\n",
       "</style>\n",
       "<table border=\"1\" class=\"dataframe\">\n",
       "  <thead>\n",
       "    <tr style=\"text-align: right;\">\n",
       "      <th></th>\n",
       "      <th>Passengerid</th>\n",
       "      <th>Age</th>\n",
       "      <th>Fare</th>\n",
       "      <th>Sex</th>\n",
       "      <th>sibsp</th>\n",
       "      <th>Parch</th>\n",
       "      <th>zero</th>\n",
       "      <th>Pclass</th>\n",
       "      <th>Embarked</th>\n",
       "      <th>Survived</th>\n",
       "    </tr>\n",
       "  </thead>\n",
       "  <tbody>\n",
       "    <tr>\n",
       "      <th>1304</th>\n",
       "      <td>1305</td>\n",
       "      <td>28.0</td>\n",
       "      <td>8.0500</td>\n",
       "      <td>0</td>\n",
       "      <td>0</td>\n",
       "      <td>0</td>\n",
       "      <td>0</td>\n",
       "      <td>3</td>\n",
       "      <td>2.0</td>\n",
       "      <td>0</td>\n",
       "    </tr>\n",
       "    <tr>\n",
       "      <th>1305</th>\n",
       "      <td>1306</td>\n",
       "      <td>39.0</td>\n",
       "      <td>108.9000</td>\n",
       "      <td>1</td>\n",
       "      <td>0</td>\n",
       "      <td>0</td>\n",
       "      <td>0</td>\n",
       "      <td>1</td>\n",
       "      <td>0.0</td>\n",
       "      <td>0</td>\n",
       "    </tr>\n",
       "    <tr>\n",
       "      <th>1306</th>\n",
       "      <td>1307</td>\n",
       "      <td>38.5</td>\n",
       "      <td>7.2500</td>\n",
       "      <td>0</td>\n",
       "      <td>0</td>\n",
       "      <td>0</td>\n",
       "      <td>0</td>\n",
       "      <td>3</td>\n",
       "      <td>2.0</td>\n",
       "      <td>0</td>\n",
       "    </tr>\n",
       "    <tr>\n",
       "      <th>1307</th>\n",
       "      <td>1308</td>\n",
       "      <td>28.0</td>\n",
       "      <td>8.0500</td>\n",
       "      <td>0</td>\n",
       "      <td>0</td>\n",
       "      <td>0</td>\n",
       "      <td>0</td>\n",
       "      <td>3</td>\n",
       "      <td>2.0</td>\n",
       "      <td>0</td>\n",
       "    </tr>\n",
       "    <tr>\n",
       "      <th>1308</th>\n",
       "      <td>1309</td>\n",
       "      <td>28.0</td>\n",
       "      <td>22.3583</td>\n",
       "      <td>0</td>\n",
       "      <td>1</td>\n",
       "      <td>1</td>\n",
       "      <td>0</td>\n",
       "      <td>3</td>\n",
       "      <td>0.0</td>\n",
       "      <td>0</td>\n",
       "    </tr>\n",
       "  </tbody>\n",
       "</table>\n",
       "</div>"
      ],
      "text/plain": [
       "      Passengerid   Age      Fare  Sex  sibsp  Parch  zero  Pclass  Embarked  \\\n",
       "1304         1305  28.0    8.0500    0      0      0     0       3       2.0   \n",
       "1305         1306  39.0  108.9000    1      0      0     0       1       0.0   \n",
       "1306         1307  38.5    7.2500    0      0      0     0       3       2.0   \n",
       "1307         1308  28.0    8.0500    0      0      0     0       3       2.0   \n",
       "1308         1309  28.0   22.3583    0      1      1     0       3       0.0   \n",
       "\n",
       "      Survived  \n",
       "1304         0  \n",
       "1305         0  \n",
       "1306         0  \n",
       "1307         0  \n",
       "1308         0  "
      ]
     },
     "execution_count": 3,
     "metadata": {},
     "output_type": "execute_result"
    }
   ],
   "source": [
    "dataset.head()\n",
    "len(dataset)\n",
    "type(dataset)\n",
    "dataset.shape\n",
    "dataset.index\n",
    "dataset.head()\n",
    "dataset.columns\n",
    "dataset.dtypes\n",
    "dataset.info()\n",
    "dataset.describe()\n",
    "dataset.tail()"
   ]
  },
  {
   "cell_type": "code",
   "execution_count": 4,
   "metadata": {},
   "outputs": [
    {
     "data": {
      "text/html": [
       "<div>\n",
       "<style scoped>\n",
       "    .dataframe tbody tr th:only-of-type {\n",
       "        vertical-align: middle;\n",
       "    }\n",
       "\n",
       "    .dataframe tbody tr th {\n",
       "        vertical-align: top;\n",
       "    }\n",
       "\n",
       "    .dataframe thead th {\n",
       "        text-align: right;\n",
       "    }\n",
       "</style>\n",
       "<table border=\"1\" class=\"dataframe\">\n",
       "  <thead>\n",
       "    <tr style=\"text-align: right;\">\n",
       "      <th></th>\n",
       "      <th>Passengerid</th>\n",
       "      <th>Age</th>\n",
       "      <th>Fare</th>\n",
       "      <th>Sex</th>\n",
       "      <th>sibsp</th>\n",
       "      <th>Parch</th>\n",
       "      <th>zero</th>\n",
       "      <th>Pclass</th>\n",
       "      <th>Embarked</th>\n",
       "      <th>Survived</th>\n",
       "    </tr>\n",
       "  </thead>\n",
       "  <tbody>\n",
       "    <tr>\n",
       "      <th>0</th>\n",
       "      <td>1</td>\n",
       "      <td>22.0</td>\n",
       "      <td>7.2500</td>\n",
       "      <td>0</td>\n",
       "      <td>1</td>\n",
       "      <td>0</td>\n",
       "      <td>0</td>\n",
       "      <td>3</td>\n",
       "      <td>2.0</td>\n",
       "      <td>0</td>\n",
       "    </tr>\n",
       "    <tr>\n",
       "      <th>1</th>\n",
       "      <td>2</td>\n",
       "      <td>38.0</td>\n",
       "      <td>71.2833</td>\n",
       "      <td>1</td>\n",
       "      <td>1</td>\n",
       "      <td>0</td>\n",
       "      <td>0</td>\n",
       "      <td>1</td>\n",
       "      <td>0.0</td>\n",
       "      <td>1</td>\n",
       "    </tr>\n",
       "    <tr>\n",
       "      <th>2</th>\n",
       "      <td>3</td>\n",
       "      <td>26.0</td>\n",
       "      <td>7.9250</td>\n",
       "      <td>1</td>\n",
       "      <td>0</td>\n",
       "      <td>0</td>\n",
       "      <td>0</td>\n",
       "      <td>3</td>\n",
       "      <td>2.0</td>\n",
       "      <td>1</td>\n",
       "    </tr>\n",
       "    <tr>\n",
       "      <th>3</th>\n",
       "      <td>4</td>\n",
       "      <td>35.0</td>\n",
       "      <td>53.1000</td>\n",
       "      <td>1</td>\n",
       "      <td>1</td>\n",
       "      <td>0</td>\n",
       "      <td>0</td>\n",
       "      <td>1</td>\n",
       "      <td>2.0</td>\n",
       "      <td>1</td>\n",
       "    </tr>\n",
       "    <tr>\n",
       "      <th>4</th>\n",
       "      <td>5</td>\n",
       "      <td>35.0</td>\n",
       "      <td>8.0500</td>\n",
       "      <td>0</td>\n",
       "      <td>0</td>\n",
       "      <td>0</td>\n",
       "      <td>0</td>\n",
       "      <td>3</td>\n",
       "      <td>2.0</td>\n",
       "      <td>0</td>\n",
       "    </tr>\n",
       "  </tbody>\n",
       "</table>\n",
       "</div>"
      ],
      "text/plain": [
       "   Passengerid   Age     Fare  Sex  sibsp  Parch  zero  Pclass  Embarked  \\\n",
       "0            1  22.0   7.2500    0      1      0     0       3       2.0   \n",
       "1            2  38.0  71.2833    1      1      0     0       1       0.0   \n",
       "2            3  26.0   7.9250    1      0      0     0       3       2.0   \n",
       "3            4  35.0  53.1000    1      1      0     0       1       2.0   \n",
       "4            5  35.0   8.0500    0      0      0     0       3       2.0   \n",
       "\n",
       "   Survived  \n",
       "0         0  \n",
       "1         1  \n",
       "2         1  \n",
       "3         1  \n",
       "4         0  "
      ]
     },
     "execution_count": 4,
     "metadata": {},
     "output_type": "execute_result"
    }
   ],
   "source": [
    "dataset.head()"
   ]
  },
  {
   "cell_type": "code",
   "execution_count": 5,
   "metadata": {},
   "outputs": [
    {
     "data": {
      "text/plain": [
       "Index(['Passengerid', 'Age', 'Fare', 'Sex', 'sibsp', 'Parch', 'zero', 'Pclass',\n",
       "       'Embarked', 'Survived'],\n",
       "      dtype='object')"
      ]
     },
     "execution_count": 5,
     "metadata": {},
     "output_type": "execute_result"
    }
   ],
   "source": [
    "dataset.columns"
   ]
  },
  {
   "cell_type": "code",
   "execution_count": 100,
   "metadata": {},
   "outputs": [
    {
     "data": {
      "text/plain": [
       "Survived       1.000000\n",
       "Sex            0.401985\n",
       "Fare           0.171942\n",
       "Parch          0.056183\n",
       "sibsp         -0.013174\n",
       "Age           -0.060236\n",
       "Embarked      -0.093225\n",
       "Pclass        -0.241672\n",
       "Passengerid   -0.331125\n",
       "zero                NaN\n",
       "Name: Survived, dtype: float64"
      ]
     },
     "execution_count": 100,
     "metadata": {},
     "output_type": "execute_result"
    }
   ],
   "source": [
    "# looking for correlation\n",
    "\n",
    "corr_matrix = dataset.corr()\n",
    "corr_matrix[\"Survived\"].sort_values(ascending = False)"
   ]
  },
  {
   "cell_type": "code",
   "execution_count": 107,
   "metadata": {},
   "outputs": [],
   "source": [
    "# dataset.plot(kind=\"scatter\", x=\"Fare\", y=\"Survived\", alpha=0.8)"
   ]
  },
  {
   "cell_type": "code",
   "execution_count": 6,
   "metadata": {},
   "outputs": [
    {
     "data": {
      "text/plain": [
       "1309"
      ]
     },
     "execution_count": 6,
     "metadata": {},
     "output_type": "execute_result"
    }
   ],
   "source": [
    "len(dataset)"
   ]
  },
  {
   "cell_type": "code",
   "execution_count": 7,
   "metadata": {},
   "outputs": [
    {
     "data": {
      "text/plain": [
       "pandas.core.frame.DataFrame"
      ]
     },
     "execution_count": 7,
     "metadata": {},
     "output_type": "execute_result"
    }
   ],
   "source": [
    "type(dataset)"
   ]
  },
  {
   "cell_type": "code",
   "execution_count": 8,
   "metadata": {},
   "outputs": [
    {
     "data": {
      "text/plain": [
       "RangeIndex(start=0, stop=1309, step=1)"
      ]
     },
     "execution_count": 8,
     "metadata": {},
     "output_type": "execute_result"
    }
   ],
   "source": [
    "dataset.index"
   ]
  },
  {
   "cell_type": "code",
   "execution_count": 9,
   "metadata": {},
   "outputs": [
    {
     "data": {
      "text/plain": [
       "Passengerid      int64\n",
       "Age            float64\n",
       "Fare           float64\n",
       "Sex              int64\n",
       "sibsp            int64\n",
       "Parch            int64\n",
       "zero             int64\n",
       "Pclass           int64\n",
       "Embarked       float64\n",
       "Survived         int64\n",
       "dtype: object"
      ]
     },
     "execution_count": 9,
     "metadata": {},
     "output_type": "execute_result"
    }
   ],
   "source": [
    "dataset.dtypes"
   ]
  },
  {
   "cell_type": "code",
   "execution_count": 10,
   "metadata": {},
   "outputs": [
    {
     "name": "stdout",
     "output_type": "stream",
     "text": [
      "<class 'pandas.core.frame.DataFrame'>\n",
      "RangeIndex: 1309 entries, 0 to 1308\n",
      "Data columns (total 10 columns):\n",
      "Passengerid    1309 non-null int64\n",
      "Age            1309 non-null float64\n",
      "Fare           1309 non-null float64\n",
      "Sex            1309 non-null int64\n",
      "sibsp          1309 non-null int64\n",
      "Parch          1309 non-null int64\n",
      "zero           1309 non-null int64\n",
      "Pclass         1309 non-null int64\n",
      "Embarked       1307 non-null float64\n",
      "Survived       1309 non-null int64\n",
      "dtypes: float64(3), int64(7)\n",
      "memory usage: 102.4 KB\n"
     ]
    }
   ],
   "source": [
    "dataset.info()"
   ]
  },
  {
   "cell_type": "code",
   "execution_count": 11,
   "metadata": {},
   "outputs": [
    {
     "data": {
      "text/plain": [
       "(1309, 10)"
      ]
     },
     "execution_count": 11,
     "metadata": {},
     "output_type": "execute_result"
    }
   ],
   "source": [
    "dataset.shape"
   ]
  },
  {
   "cell_type": "code",
   "execution_count": 12,
   "metadata": {},
   "outputs": [
    {
     "data": {
      "text/plain": [
       "Passengerid    0\n",
       "Age            0\n",
       "Fare           0\n",
       "Sex            0\n",
       "sibsp          0\n",
       "Parch          0\n",
       "zero           0\n",
       "Pclass         0\n",
       "Embarked       2\n",
       "Survived       0\n",
       "dtype: int64"
      ]
     },
     "execution_count": 12,
     "metadata": {},
     "output_type": "execute_result"
    }
   ],
   "source": [
    "# count the number of NaN values in each column\n",
    "dataset.isnull().sum()"
   ]
  },
  {
   "cell_type": "code",
   "execution_count": 13,
   "metadata": {},
   "outputs": [],
   "source": [
    "#dataset.head(20)\n",
    "# drop na values (delete rows)\n",
    "dataset.dropna(inplace = True, axis = 0) "
   ]
  },
  {
   "cell_type": "code",
   "execution_count": 14,
   "metadata": {},
   "outputs": [
    {
     "data": {
      "text/plain": [
       "Passengerid    0\n",
       "Age            0\n",
       "Fare           0\n",
       "Sex            0\n",
       "sibsp          0\n",
       "Parch          0\n",
       "zero           0\n",
       "Pclass         0\n",
       "Embarked       0\n",
       "Survived       0\n",
       "dtype: int64"
      ]
     },
     "execution_count": 14,
     "metadata": {},
     "output_type": "execute_result"
    }
   ],
   "source": [
    "\n",
    "dataset.isnull().sum() "
   ]
  },
  {
   "cell_type": "code",
   "execution_count": 15,
   "metadata": {},
   "outputs": [
    {
     "data": {
      "text/html": [
       "<div>\n",
       "<style scoped>\n",
       "    .dataframe tbody tr th:only-of-type {\n",
       "        vertical-align: middle;\n",
       "    }\n",
       "\n",
       "    .dataframe tbody tr th {\n",
       "        vertical-align: top;\n",
       "    }\n",
       "\n",
       "    .dataframe thead th {\n",
       "        text-align: right;\n",
       "    }\n",
       "</style>\n",
       "<table border=\"1\" class=\"dataframe\">\n",
       "  <thead>\n",
       "    <tr style=\"text-align: right;\">\n",
       "      <th></th>\n",
       "      <th>Passengerid</th>\n",
       "      <th>Age</th>\n",
       "      <th>Fare</th>\n",
       "      <th>Sex</th>\n",
       "      <th>sibsp</th>\n",
       "      <th>Parch</th>\n",
       "      <th>zero</th>\n",
       "      <th>Pclass</th>\n",
       "      <th>Embarked</th>\n",
       "      <th>Survived</th>\n",
       "    </tr>\n",
       "  </thead>\n",
       "  <tbody>\n",
       "    <tr>\n",
       "      <th>count</th>\n",
       "      <td>1307.000000</td>\n",
       "      <td>1307.000000</td>\n",
       "      <td>1307.000000</td>\n",
       "      <td>1307.000000</td>\n",
       "      <td>1307.000000</td>\n",
       "      <td>1307.000000</td>\n",
       "      <td>1307.0</td>\n",
       "      <td>1307.000000</td>\n",
       "      <td>1307.000000</td>\n",
       "      <td>1307.000000</td>\n",
       "    </tr>\n",
       "    <tr>\n",
       "      <th>mean</th>\n",
       "      <td>655.319816</td>\n",
       "      <td>29.471821</td>\n",
       "      <td>33.209595</td>\n",
       "      <td>0.355011</td>\n",
       "      <td>0.499617</td>\n",
       "      <td>0.385616</td>\n",
       "      <td>0.0</td>\n",
       "      <td>2.296863</td>\n",
       "      <td>1.492731</td>\n",
       "      <td>0.260138</td>\n",
       "    </tr>\n",
       "    <tr>\n",
       "      <th>std</th>\n",
       "      <td>377.922205</td>\n",
       "      <td>12.881592</td>\n",
       "      <td>51.748768</td>\n",
       "      <td>0.478700</td>\n",
       "      <td>1.042273</td>\n",
       "      <td>0.866092</td>\n",
       "      <td>0.0</td>\n",
       "      <td>0.836942</td>\n",
       "      <td>0.814626</td>\n",
       "      <td>0.438877</td>\n",
       "    </tr>\n",
       "    <tr>\n",
       "      <th>min</th>\n",
       "      <td>1.000000</td>\n",
       "      <td>0.170000</td>\n",
       "      <td>0.000000</td>\n",
       "      <td>0.000000</td>\n",
       "      <td>0.000000</td>\n",
       "      <td>0.000000</td>\n",
       "      <td>0.0</td>\n",
       "      <td>1.000000</td>\n",
       "      <td>0.000000</td>\n",
       "      <td>0.000000</td>\n",
       "    </tr>\n",
       "    <tr>\n",
       "      <th>25%</th>\n",
       "      <td>328.500000</td>\n",
       "      <td>22.000000</td>\n",
       "      <td>7.895800</td>\n",
       "      <td>0.000000</td>\n",
       "      <td>0.000000</td>\n",
       "      <td>0.000000</td>\n",
       "      <td>0.0</td>\n",
       "      <td>2.000000</td>\n",
       "      <td>1.000000</td>\n",
       "      <td>0.000000</td>\n",
       "    </tr>\n",
       "    <tr>\n",
       "      <th>50%</th>\n",
       "      <td>655.000000</td>\n",
       "      <td>28.000000</td>\n",
       "      <td>14.454200</td>\n",
       "      <td>0.000000</td>\n",
       "      <td>0.000000</td>\n",
       "      <td>0.000000</td>\n",
       "      <td>0.0</td>\n",
       "      <td>3.000000</td>\n",
       "      <td>2.000000</td>\n",
       "      <td>0.000000</td>\n",
       "    </tr>\n",
       "    <tr>\n",
       "      <th>75%</th>\n",
       "      <td>982.500000</td>\n",
       "      <td>35.000000</td>\n",
       "      <td>31.275000</td>\n",
       "      <td>1.000000</td>\n",
       "      <td>1.000000</td>\n",
       "      <td>0.000000</td>\n",
       "      <td>0.0</td>\n",
       "      <td>3.000000</td>\n",
       "      <td>2.000000</td>\n",
       "      <td>1.000000</td>\n",
       "    </tr>\n",
       "    <tr>\n",
       "      <th>max</th>\n",
       "      <td>1309.000000</td>\n",
       "      <td>80.000000</td>\n",
       "      <td>512.329200</td>\n",
       "      <td>1.000000</td>\n",
       "      <td>8.000000</td>\n",
       "      <td>9.000000</td>\n",
       "      <td>0.0</td>\n",
       "      <td>3.000000</td>\n",
       "      <td>2.000000</td>\n",
       "      <td>1.000000</td>\n",
       "    </tr>\n",
       "  </tbody>\n",
       "</table>\n",
       "</div>"
      ],
      "text/plain": [
       "       Passengerid          Age         Fare          Sex        sibsp  \\\n",
       "count  1307.000000  1307.000000  1307.000000  1307.000000  1307.000000   \n",
       "mean    655.319816    29.471821    33.209595     0.355011     0.499617   \n",
       "std     377.922205    12.881592    51.748768     0.478700     1.042273   \n",
       "min       1.000000     0.170000     0.000000     0.000000     0.000000   \n",
       "25%     328.500000    22.000000     7.895800     0.000000     0.000000   \n",
       "50%     655.000000    28.000000    14.454200     0.000000     0.000000   \n",
       "75%     982.500000    35.000000    31.275000     1.000000     1.000000   \n",
       "max    1309.000000    80.000000   512.329200     1.000000     8.000000   \n",
       "\n",
       "             Parch    zero       Pclass     Embarked     Survived  \n",
       "count  1307.000000  1307.0  1307.000000  1307.000000  1307.000000  \n",
       "mean      0.385616     0.0     2.296863     1.492731     0.260138  \n",
       "std       0.866092     0.0     0.836942     0.814626     0.438877  \n",
       "min       0.000000     0.0     1.000000     0.000000     0.000000  \n",
       "25%       0.000000     0.0     2.000000     1.000000     0.000000  \n",
       "50%       0.000000     0.0     3.000000     2.000000     0.000000  \n",
       "75%       0.000000     0.0     3.000000     2.000000     1.000000  \n",
       "max       9.000000     0.0     3.000000     2.000000     1.000000  "
      ]
     },
     "execution_count": 15,
     "metadata": {},
     "output_type": "execute_result"
    }
   ],
   "source": [
    "dataset.describe()"
   ]
  },
  {
   "cell_type": "code",
   "execution_count": 16,
   "metadata": {},
   "outputs": [
    {
     "data": {
      "text/html": [
       "<div>\n",
       "<style scoped>\n",
       "    .dataframe tbody tr th:only-of-type {\n",
       "        vertical-align: middle;\n",
       "    }\n",
       "\n",
       "    .dataframe tbody tr th {\n",
       "        vertical-align: top;\n",
       "    }\n",
       "\n",
       "    .dataframe thead th {\n",
       "        text-align: right;\n",
       "    }\n",
       "</style>\n",
       "<table border=\"1\" class=\"dataframe\">\n",
       "  <thead>\n",
       "    <tr style=\"text-align: right;\">\n",
       "      <th>Sex</th>\n",
       "      <th>0</th>\n",
       "      <th>1</th>\n",
       "    </tr>\n",
       "    <tr>\n",
       "      <th>Survived</th>\n",
       "      <th></th>\n",
       "      <th></th>\n",
       "    </tr>\n",
       "  </thead>\n",
       "  <tbody>\n",
       "    <tr>\n",
       "      <th>0</th>\n",
       "      <td>734</td>\n",
       "      <td>233</td>\n",
       "    </tr>\n",
       "    <tr>\n",
       "      <th>1</th>\n",
       "      <td>109</td>\n",
       "      <td>231</td>\n",
       "    </tr>\n",
       "  </tbody>\n",
       "</table>\n",
       "</div>"
      ],
      "text/plain": [
       "Sex         0    1\n",
       "Survived          \n",
       "0         734  233\n",
       "1         109  231"
      ]
     },
     "execution_count": 16,
     "metadata": {},
     "output_type": "execute_result"
    }
   ],
   "source": [
    "# compare target with Sex columns  male = 0 , Female = 1\n",
    "pd.crosstab(dataset.Survived, dataset.Sex)\n"
   ]
  },
  {
   "cell_type": "code",
   "execution_count": 17,
   "metadata": {},
   "outputs": [
    {
     "data": {
      "image/png": "[encoded data removed]",
      "text/plain": [
       "<Figure size 720x432 with 1 Axes>"
      ]
     },
     "metadata": {
      "needs_background": "light"
     },
     "output_type": "display_data"
    }
   ],
   "source": [
    "# Create a plot\n",
    "pd.crosstab(dataset.Survived, dataset.Sex).plot(kind=\"bar\", \n",
    "                                    figsize=(10,6), \n",
    "                                    color=[\"salmon\", \"lightblue\"]);"
   ]
  },
  {
   "cell_type": "code",
   "execution_count": null,
   "metadata": {},
   "outputs": [],
   "source": []
  },
  {
   "cell_type": "code",
   "execution_count": 18,
   "metadata": {},
   "outputs": [],
   "source": [
    "# creating X and y\n",
    "X = dataset.drop('Survived', axis = 1)\n",
    "y = dataset.Survived"
   ]
  },
  {
   "cell_type": "code",
   "execution_count": 19,
   "metadata": {},
   "outputs": [
    {
     "data": {
      "text/plain": [
       "pandas.core.frame.DataFrame"
      ]
     },
     "execution_count": 19,
     "metadata": {},
     "output_type": "execute_result"
    }
   ],
   "source": [
    "type(X)"
   ]
  },
  {
   "cell_type": "code",
   "execution_count": 20,
   "metadata": {},
   "outputs": [
    {
     "data": {
      "text/plain": [
       "pandas.core.series.Series"
      ]
     },
     "execution_count": 20,
     "metadata": {},
     "output_type": "execute_result"
    }
   ],
   "source": [
    "type(y)"
   ]
  },
  {
   "cell_type": "code",
   "execution_count": 21,
   "metadata": {},
   "outputs": [
    {
     "data": {
      "text/plain": [
       "0    967\n",
       "1    340\n",
       "Name: Survived, dtype: int64"
      ]
     },
     "execution_count": 21,
     "metadata": {},
     "output_type": "execute_result"
    }
   ],
   "source": [
    "\n",
    "y.value_counts()"
   ]
  },
  {
   "cell_type": "code",
   "execution_count": 22,
   "metadata": {},
   "outputs": [
    {
     "data": {
      "text/plain": [
       "<matplotlib.axes._subplots.AxesSubplot at 0x2a5f529e908>"
      ]
     },
     "execution_count": 22,
     "metadata": {},
     "output_type": "execute_result"
    },
    {
     "data": {
      "image/png": "[encoded data removed]",
      "text/plain": [
       "<Figure size 432x288 with 1 Axes>"
      ]
     },
     "metadata": {
      "needs_background": "light"
     },
     "output_type": "display_data"
    }
   ],
   "source": [
    "y.value_counts().plot(kind = \"bar\", color = [\"salmon\", \"lightblue\"])"
   ]
  },
  {
   "cell_type": "code",
   "execution_count": 23,
   "metadata": {},
   "outputs": [
    {
     "data": {
      "image/png": "[encoded data removed]",
      "text/plain": [
       "<Figure size 720x432 with 1 Axes>"
      ]
     },
     "metadata": {
      "needs_background": "light"
     },
     "output_type": "display_data"
    }
   ],
   "source": [
    "\n",
    "# Create the plot\n",
    "fig, ax = plt.subplots(figsize=(10, 6))\n",
    "\n",
    "# Plot the data\n",
    "scatter = ax.scatter(dataset[\"Age\"], \n",
    "                     dataset[\"Fare\"], \n",
    "                     c=dataset[\"Survived\"])\n",
    "\n",
    "# Customize the plot\n",
    "ax.set(title=\"Survival Rate\",\n",
    "       xlabel=\"Age\",\n",
    "       ylabel=\"Fare\");\n",
    "ax.legend(*scatter.legend_elements(), title=\"Target\")\n",
    "\n",
    "# Add a meanline\n",
    "ax.axhline(dataset[\"Fare\"].mean(),\n",
    "           linestyle=\"--\");"
   ]
  },
  {
   "cell_type": "code",
   "execution_count": 24,
   "metadata": {},
   "outputs": [],
   "source": [
    "# spliting dataset into training and testing data set\n",
    "X_train, X_test, y_train, y_test = train_test_split(X, y, test_size = 0.25, random_state = 42)"
   ]
  },
  {
   "cell_type": "code",
   "execution_count": 25,
   "metadata": {},
   "outputs": [
    {
     "data": {
      "text/plain": [
       "Passengerid    0\n",
       "Age            0\n",
       "Fare           0\n",
       "Sex            0\n",
       "sibsp          0\n",
       "Parch          0\n",
       "zero           0\n",
       "Pclass         0\n",
       "Embarked       0\n",
       "dtype: int64"
      ]
     },
     "execution_count": 25,
     "metadata": {},
     "output_type": "execute_result"
    }
   ],
   "source": [
    "# dropping na values\n",
    "X_train.isnull().sum()"
   ]
  },
  {
   "cell_type": "code",
   "execution_count": 26,
   "metadata": {},
   "outputs": [
    {
     "data": {
      "text/plain": [
       "((980, 9), (327, 9), (980,), (327,))"
      ]
     },
     "execution_count": 26,
     "metadata": {},
     "output_type": "execute_result"
    }
   ],
   "source": [
    "# View different shape of training and testing set\n",
    "X_train.shape, X_test.shape, y_train.shape, y_test.shape"
   ]
  },
  {
   "cell_type": "code",
   "execution_count": 27,
   "metadata": {},
   "outputs": [],
   "source": [
    "# Building Model\n",
    "from sklearn.ensemble import RandomForestClassifier"
   ]
  },
  {
   "cell_type": "code",
   "execution_count": 28,
   "metadata": {},
   "outputs": [],
   "source": [
    "# Instantiate an instance of RandomForestClassifier as classifier\n",
    "classifier_rf = RandomForestClassifier()"
   ]
  },
  {
   "cell_type": "code",
   "execution_count": 29,
   "metadata": {},
   "outputs": [
    {
     "data": {
      "text/plain": [
       "{'bootstrap': True,\n",
       " 'ccp_alpha': 0.0,\n",
       " 'class_weight': None,\n",
       " 'criterion': 'gini',\n",
       " 'max_depth': None,\n",
       " 'max_features': 'auto',\n",
       " 'max_leaf_nodes': None,\n",
       " 'max_samples': None,\n",
       " 'min_impurity_decrease': 0.0,\n",
       " 'min_impurity_split': None,\n",
       " 'min_samples_leaf': 1,\n",
       " 'min_samples_split': 2,\n",
       " 'min_weight_fraction_leaf': 0.0,\n",
       " 'n_estimators': 100,\n",
       " 'n_jobs': None,\n",
       " 'oob_score': False,\n",
       " 'random_state': None,\n",
       " 'verbose': 0,\n",
       " 'warm_start': False}"
      ]
     },
     "execution_count": 29,
     "metadata": {},
     "output_type": "execute_result"
    }
   ],
   "source": [
    "# We'll leave the hyperparameters as default to begin with...\n",
    "classifier_rf.get_params()"
   ]
  },
  {
   "cell_type": "code",
   "execution_count": 30,
   "metadata": {},
   "outputs": [
    {
     "data": {
      "text/plain": [
       "RandomForestClassifier(bootstrap=True, ccp_alpha=0.0, class_weight=None,\n",
       "                       criterion='gini', max_depth=None, max_features='auto',\n",
       "                       max_leaf_nodes=None, max_samples=None,\n",
       "                       min_impurity_decrease=0.0, min_impurity_split=None,\n",
       "                       min_samples_leaf=1, min_samples_split=2,\n",
       "                       min_weight_fraction_leaf=0.0, n_estimators=100,\n",
       "                       n_jobs=None, oob_score=False, random_state=None,\n",
       "                       verbose=0, warm_start=False)"
      ]
     },
     "execution_count": 30,
     "metadata": {},
     "output_type": "execute_result"
    }
   ],
   "source": [
    "# fitting the model\n",
    "classifier_rf.fit(X_train, y_train)\n"
   ]
  },
  {
   "cell_type": "code",
   "execution_count": 31,
   "metadata": {},
   "outputs": [
    {
     "data": {
      "text/plain": [
       "(980, 9)"
      ]
     },
     "execution_count": 31,
     "metadata": {},
     "output_type": "execute_result"
    }
   ],
   "source": [
    "X_train.shape"
   ]
  },
  {
   "cell_type": "code",
   "execution_count": 32,
   "metadata": {},
   "outputs": [],
   "source": [
    "# Use the fitted model to make predictions on the test data and\n",
    "# save the predictions to a variable called y_pred\n",
    "\n",
    "y_pred = classifier_rf.predict(X_test)"
   ]
  },
  {
   "cell_type": "code",
   "execution_count": 33,
   "metadata": {},
   "outputs": [
    {
     "data": {
      "text/plain": [
       "1.0"
      ]
     },
     "execution_count": 33,
     "metadata": {},
     "output_type": "execute_result"
    }
   ],
   "source": [
    "# Evaluate the fitted model on the training set using score() function\n",
    "classifier_rf.score(X_train, y_train)"
   ]
  },
  {
   "cell_type": "code",
   "execution_count": 34,
   "metadata": {},
   "outputs": [
    {
     "data": {
      "text/plain": [
       "0.8715596330275229"
      ]
     },
     "execution_count": 34,
     "metadata": {},
     "output_type": "execute_result"
    }
   ],
   "source": [
    "# Evaluate the fitted model on the testing set using score()\n",
    "classifier_rf.score(X_test,y_test)"
   ]
  },
  {
   "cell_type": "code",
   "execution_count": 35,
   "metadata": {},
   "outputs": [
    {
     "name": "stdout",
     "output_type": "stream",
     "text": [
      "trying model with 10 estimators...\n",
      "model accuracy on test set : 0.87\n",
      "\n",
      "trying model with 20 estimators...\n",
      "model accuracy on test set : 0.87\n",
      "\n",
      "trying model with 30 estimators...\n",
      "model accuracy on test set : 0.87\n",
      "\n",
      "trying model with 40 estimators...\n",
      "model accuracy on test set : 0.87\n",
      "\n",
      "trying model with 50 estimators...\n",
      "model accuracy on test set : 0.87\n",
      "\n",
      "trying model with 60 estimators...\n",
      "model accuracy on test set : 0.87\n",
      "\n",
      "trying model with 70 estimators...\n",
      "model accuracy on test set : 0.87\n",
      "\n",
      "trying model with 80 estimators...\n",
      "model accuracy on test set : 0.87\n",
      "\n",
      "trying model with 90 estimators...\n",
      "model accuracy on test set : 0.87\n",
      "\n"
     ]
    }
   ],
   "source": [
    "# hyperparameter tuning for RandomForestClassifier\n",
    "# n_estimations : means number of decision tree\n",
    "\n",
    "for i in range(10,100,10):\n",
    "    print(f\"trying model with {i} estimators...\")\n",
    "    model = RandomForestClassifier(n_estimators = i, random_state = 42).fit(X_train, y_train)\n",
    "    print(f\"model accuracy on test set : {model.score(X_test, y_test):.2f}\")\n",
    "   # print(f\"cross-validation score : {np.mean(cross_val_score(model, X, y, cv = 5)) * 100:.2f}\")\n",
    "    print(\"\")\n",
    "    \n",
    "    "
   ]
  },
  {
   "cell_type": "code",
   "execution_count": null,
   "metadata": {},
   "outputs": [],
   "source": []
  },
  {
   "cell_type": "code",
   "execution_count": null,
   "metadata": {},
   "outputs": [],
   "source": []
  },
  {
   "cell_type": "code",
   "execution_count": null,
   "metadata": {},
   "outputs": [],
   "source": []
  },
  {
   "cell_type": "markdown",
   "metadata": {},
   "source": [
    "# Experimenting with differnt classification Algorithms"
   ]
  },
  {
   "cell_type": "code",
   "execution_count": 36,
   "metadata": {},
   "outputs": [],
   "source": [
    "from sklearn.svm import LinearSVC\n",
    "from sklearn.neighbors import KNeighborsClassifier\n",
    "from sklearn.linear_model import LogisticRegression\n",
    "\n",
    "\n",
    "models = {\"LinearSVC\" : LinearSVC(),\n",
    "         \"KNN\" : KNeighborsClassifier(),\n",
    "         \"LogisticRegression\" : LogisticRegression(),\n",
    "         \"RandomForestClassifier\" : RandomForestClassifier()}"
   ]
  },
  {
   "cell_type": "code",
   "execution_count": 37,
   "metadata": {},
   "outputs": [],
   "source": [
    "# created empty dictionary results to store the results\n",
    "results = {}"
   ]
  },
  {
   "cell_type": "code",
   "execution_count": 38,
   "metadata": {},
   "outputs": [
    {
     "name": "stderr",
     "output_type": "stream",
     "text": [
      "C:\\Users\\hp\\Anaconda3\\envs\\newML\\lib\\site-packages\\sklearn\\svm\\_base.py:947: ConvergenceWarning: Liblinear failed to converge, increase the number of iterations.\n",
      "  \"the number of iterations.\", ConvergenceWarning)\n",
      "C:\\Users\\hp\\Anaconda3\\envs\\newML\\lib\\site-packages\\sklearn\\linear_model\\_logistic.py:939: ConvergenceWarning: lbfgs failed to converge (status=1):\n",
      "STOP: TOTAL NO. of ITERATIONS REACHED LIMIT.\n",
      "\n",
      "Increase the number of iterations (max_iter) or scale the data as shown in:\n",
      "    https://scikit-learn.org/stable/modules/preprocessing.html.\n",
      "Please also refer to the documentation for alternative solver options:\n",
      "    https://scikit-learn.org/stable/modules/linear_model.html#logistic-regression\n",
      "  extra_warning_msg=_LOGISTIC_SOLVER_CONVERGENCE_MSG)\n"
     ]
    }
   ],
   "source": [
    "# Loop through the models dictionary items, \n",
    "## fitting the model on the training data\n",
    "# and appending the model name and model score on the test data \n",
    "# to the results dictionary\n",
    "\n",
    "# for getting same results across the multiple times execution code\n",
    "np.random.seed(42)\n",
    "\n",
    "for model_name, model in models.items():\n",
    "    model.fit(X_train, y_train)\n",
    "    results[model_name] = ((model.score(X_test, y_test)) * 100)\n",
    "    "
   ]
  },
  {
   "cell_type": "code",
   "execution_count": 39,
   "metadata": {},
   "outputs": [
    {
     "data": {
      "text/plain": [
       "{'LinearSVC': 71.86544342507645,\n",
       " 'KNN': 74.61773700305811,\n",
       " 'LogisticRegression': 85.01529051987767,\n",
       " 'RandomForestClassifier': 87.1559633027523}"
      ]
     },
     "execution_count": 39,
     "metadata": {},
     "output_type": "execute_result"
    }
   ],
   "source": [
    "results"
   ]
  },
  {
   "cell_type": "code",
   "execution_count": null,
   "metadata": {},
   "outputs": [],
   "source": []
  },
  {
   "cell_type": "code",
   "execution_count": 40,
   "metadata": {},
   "outputs": [
    {
     "data": {
      "text/html": [
       "<div>\n",
       "<style scoped>\n",
       "    .dataframe tbody tr th:only-of-type {\n",
       "        vertical-align: middle;\n",
       "    }\n",
       "\n",
       "    .dataframe tbody tr th {\n",
       "        vertical-align: top;\n",
       "    }\n",
       "\n",
       "    .dataframe thead th {\n",
       "        text-align: right;\n",
       "    }\n",
       "</style>\n",
       "<table border=\"1\" class=\"dataframe\">\n",
       "  <thead>\n",
       "    <tr style=\"text-align: right;\">\n",
       "      <th></th>\n",
       "      <th>Accuracy</th>\n",
       "    </tr>\n",
       "  </thead>\n",
       "  <tbody>\n",
       "    <tr>\n",
       "      <th>LinearSVC</th>\n",
       "      <td>71.865443</td>\n",
       "    </tr>\n",
       "    <tr>\n",
       "      <th>KNN</th>\n",
       "      <td>74.617737</td>\n",
       "    </tr>\n",
       "    <tr>\n",
       "      <th>LogisticRegression</th>\n",
       "      <td>85.015291</td>\n",
       "    </tr>\n",
       "    <tr>\n",
       "      <th>RandomForestClassifier</th>\n",
       "      <td>87.155963</td>\n",
       "    </tr>\n",
       "  </tbody>\n",
       "</table>\n",
       "</div>"
      ],
      "text/plain": [
       "                         Accuracy\n",
       "LinearSVC               71.865443\n",
       "KNN                     74.617737\n",
       "LogisticRegression      85.015291\n",
       "RandomForestClassifier  87.155963"
      ]
     },
     "execution_count": 40,
     "metadata": {},
     "output_type": "execute_result"
    }
   ],
   "source": [
    "# make our results a little more Visual\n",
    "\n",
    "# Create a pandas dataframe with the data as the values of the results dictionary,\n",
    "# the index as the keys of the results dictionary and a single column called accuracy.\n",
    "# Be sure to save the dataframe to a variable.\n",
    "\n",
    "results_df = pd.DataFrame(results.values(),\n",
    "                         results.keys(),\n",
    "                         columns = ['Accuracy'])\n",
    "\n",
    "results_df"
   ]
  },
  {
   "cell_type": "code",
   "execution_count": 41,
   "metadata": {},
   "outputs": [
    {
     "data": {
      "text/plain": [
       "(4, 1)"
      ]
     },
     "execution_count": 41,
     "metadata": {},
     "output_type": "execute_result"
    }
   ],
   "source": [
    "results_df.shape"
   ]
  },
  {
   "cell_type": "code",
   "execution_count": 42,
   "metadata": {},
   "outputs": [
    {
     "data": {
      "text/plain": [
       "<matplotlib.axes._subplots.AxesSubplot at 0x2a5f50a79c8>"
      ]
     },
     "execution_count": 42,
     "metadata": {},
     "output_type": "execute_result"
    },
    {
     "data": {
      "image/png": "[encoded data removed]",
      "text/plain": [
       "<Figure size 432x288 with 1 Axes>"
      ]
     },
     "metadata": {
      "needs_background": "light"
     },
     "output_type": "display_data"
    }
   ],
   "source": [
    "# create bar plot of the results dataframe using plot.bar\n",
    "\n",
    "results_df.plot.bar()"
   ]
  },
  {
   "cell_type": "markdown",
   "metadata": {},
   "source": [
    "results in the RandomForestClassifier model perfoming the best \n",
    "\n",
    "RandomForestClassifier has highest accuracy : 87 %\n",
    "\n",
    "\n",
    "let's first build model using RandomForestClassifier by tuning its parameters\n",
    "\n",
    "and then go for second highest accuracy : Logistic Regression \n",
    "\n",
    "let's try second highest accuracy model LogisticRegression  \n",
    "\n",
    "LogisticRegression  has second highest accuracy : 85 %\n",
    "\n",
    "results in the LogisticRegression model perfoming the better \n",
    "\n",
    "Let's tune its hyperparameters and see if we can improve it.\n",
    " \n",
    "use one of them while parameter tuning\n",
    " \n",
    "    1) Exhaustively with GridSearchCV or\n",
    "\n",
    "    2) Randomly with RandomizedSearchCV."
   ]
  },
  {
   "cell_type": "code",
   "execution_count": 43,
   "metadata": {},
   "outputs": [],
   "source": [
    "# Hyperparameter Tuning using GridSearchCV\n",
    "from sklearn.model_selection import GridSearchCV"
   ]
  },
  {
   "cell_type": "code",
   "execution_count": 44,
   "metadata": {},
   "outputs": [
    {
     "data": {
      "text/plain": [
       "{'bootstrap': True,\n",
       " 'ccp_alpha': 0.0,\n",
       " 'class_weight': None,\n",
       " 'criterion': 'gini',\n",
       " 'max_depth': None,\n",
       " 'max_features': 'auto',\n",
       " 'max_leaf_nodes': None,\n",
       " 'max_samples': None,\n",
       " 'min_impurity_decrease': 0.0,\n",
       " 'min_impurity_split': None,\n",
       " 'min_samples_leaf': 1,\n",
       " 'min_samples_split': 2,\n",
       " 'min_weight_fraction_leaf': 0.0,\n",
       " 'n_estimators': 100,\n",
       " 'n_jobs': None,\n",
       " 'oob_score': False,\n",
       " 'random_state': None,\n",
       " 'verbose': 0,\n",
       " 'warm_start': False}"
      ]
     },
     "execution_count": 44,
     "metadata": {},
     "output_type": "execute_result"
    }
   ],
   "source": [
    "# let's take a look on parameters of RandomForestClassifier\n",
    "RandomForestClassifier().get_params()"
   ]
  },
  {
   "cell_type": "markdown",
   "metadata": {},
   "source": [
    " Define parameters to search over\n",
    " \n",
    " only this thing (param_grid) will be change according to algorithms\n",
    " \n",
    " we have to define hyper parameter as per provided by specific algorithms\n",
    "\n"
   ]
  },
  {
   "cell_type": "code",
   "execution_count": 45,
   "metadata": {},
   "outputs": [],
   "source": [
    "# Define parameters to search over\n",
    "param_grid = {\"n_estimators\" : [i for i in range(10,100,10)]}\n",
    "\n",
    "# setup the gridsearch\n",
    "\n",
    "grid = GridSearchCV(estimator = RandomForestClassifier(random_state = 42),\n",
    "                   param_grid = param_grid,\n",
    "                   cv = 5)"
   ]
  },
  {
   "cell_type": "code",
   "execution_count": 46,
   "metadata": {},
   "outputs": [
    {
     "data": {
      "text/plain": [
       "GridSearchCV(cv=5, error_score=nan,\n",
       "             estimator=RandomForestClassifier(bootstrap=True, ccp_alpha=0.0,\n",
       "                                              class_weight=None,\n",
       "                                              criterion='gini', max_depth=None,\n",
       "                                              max_features='auto',\n",
       "                                              max_leaf_nodes=None,\n",
       "                                              max_samples=None,\n",
       "                                              min_impurity_decrease=0.0,\n",
       "                                              min_impurity_split=None,\n",
       "                                              min_samples_leaf=1,\n",
       "                                              min_samples_split=2,\n",
       "                                              min_weight_fraction_leaf=0.0,\n",
       "                                              n_estimators=100, n_jobs=None,\n",
       "                                              oob_score=False, random_state=42,\n",
       "                                              verbose=0, warm_start=False),\n",
       "             iid='deprecated', n_jobs=None,\n",
       "             param_grid={'n_estimators': [10, 20, 30, 40, 50, 60, 70, 80, 90]},\n",
       "             pre_dispatch='2*n_jobs', refit=True, return_train_score=False,\n",
       "             scoring=None, verbose=0)"
      ]
     },
     "execution_count": 46,
     "metadata": {},
     "output_type": "execute_result"
    }
   ],
   "source": [
    "# fit grid to data\n",
    "grid.fit(X, y)"
   ]
  },
  {
   "cell_type": "code",
   "execution_count": 47,
   "metadata": {},
   "outputs": [
    {
     "data": {
      "text/plain": [
       "{'n_estimators': 10}"
      ]
     },
     "execution_count": 47,
     "metadata": {},
     "output_type": "execute_result"
    }
   ],
   "source": [
    "# find the best parameters\n",
    "grid.best_params_"
   ]
  },
  {
   "cell_type": "markdown",
   "metadata": {},
   "source": [
    "we get the best result when we create 10 decision trees in RandomForestClassifier Algorithm."
   ]
  },
  {
   "cell_type": "code",
   "execution_count": 48,
   "metadata": {},
   "outputs": [],
   "source": [
    "# set  the model to the best estimator\n",
    "classifier = grid.best_estimator_"
   ]
  },
  {
   "cell_type": "code",
   "execution_count": 49,
   "metadata": {},
   "outputs": [
    {
     "data": {
      "text/plain": [
       "RandomForestClassifier(bootstrap=True, ccp_alpha=0.0, class_weight=None,\n",
       "                       criterion='gini', max_depth=None, max_features='auto',\n",
       "                       max_leaf_nodes=None, max_samples=None,\n",
       "                       min_impurity_decrease=0.0, min_impurity_split=None,\n",
       "                       min_samples_leaf=1, min_samples_split=2,\n",
       "                       min_weight_fraction_leaf=0.0, n_estimators=10,\n",
       "                       n_jobs=None, oob_score=False, random_state=42, verbose=0,\n",
       "                       warm_start=False)"
      ]
     },
     "execution_count": 49,
     "metadata": {},
     "output_type": "execute_result"
    }
   ],
   "source": [
    "classifier"
   ]
  },
  {
   "cell_type": "code",
   "execution_count": 50,
   "metadata": {},
   "outputs": [
    {
     "data": {
      "text/plain": [
       "0.9816326530612245"
      ]
     },
     "execution_count": 50,
     "metadata": {},
     "output_type": "execute_result"
    }
   ],
   "source": [
    "# fit the best model\n",
    "classifier.fit(X_train, y_train)\n",
    "classifier.score(X_train, y_train)"
   ]
  },
  {
   "cell_type": "code",
   "execution_count": 51,
   "metadata": {},
   "outputs": [
    {
     "data": {
      "text/plain": [
       "0.8685015290519877"
      ]
     },
     "execution_count": 51,
     "metadata": {},
     "output_type": "execute_result"
    }
   ],
   "source": [
    "# Find best model score using test set\n",
    "classifier.score(X_test, y_test)"
   ]
  },
  {
   "cell_type": "markdown",
   "metadata": {},
   "source": [
    "we are successfully improved 1% accuracy by tuning hyper-parameters \n",
    "\n",
    "RandomForestClassifier Accuracy before tuning : 87 %\n",
    "\n",
    "RandomForestClassifier Accuracy After tuning : 88 %\n",
    "    "
   ]
  },
  {
   "cell_type": "markdown",
   "metadata": {},
   "source": [
    "# hyperparameter tuning using RandomizedSearchCV"
   ]
  },
  {
   "cell_type": "code",
   "execution_count": 52,
   "metadata": {},
   "outputs": [],
   "source": [
    "# different LogisticRegression hyperprarameters\n",
    "log_reg_grid = {\"C\" : np.logspace(-4, 4, 20),\n",
    "               \"solver\" : [\"liblinear\"]}\n",
    "\n",
    "\n",
    "\n",
    "from sklearn.model_selection import RandomizedSearchCV\n",
    "# Setup an instance of RandomizedSearchCV \n",
    "# with a LogisticRegression() estimator,\n",
    "# our log_reg_grid as the param_distributions, a cv of 5 \n",
    "# and n_iter of 5.\n",
    "np.random.seed(42)\n",
    "rs_log_reg = RandomizedSearchCV(estimator = LogisticRegression(),\n",
    "                                param_distributions = log_reg_grid,\n",
    "                                cv = 5,\n",
    "                                n_iter = 5,\n",
    "                                verbose = 1)\n",
    "\n"
   ]
  },
  {
   "cell_type": "code",
   "execution_count": 53,
   "metadata": {},
   "outputs": [
    {
     "name": "stdout",
     "output_type": "stream",
     "text": [
      "Fitting 5 folds for each of 5 candidates, totalling 25 fits\n"
     ]
    },
    {
     "name": "stderr",
     "output_type": "stream",
     "text": [
      "[Parallel(n_jobs=1)]: Using backend SequentialBackend with 1 concurrent workers.\n",
      "[Parallel(n_jobs=1)]: Done  25 out of  25 | elapsed:    0.5s finished\n"
     ]
    },
    {
     "data": {
      "text/plain": [
       "RandomizedSearchCV(cv=5, error_score=nan,\n",
       "                   estimator=LogisticRegression(C=1.0, class_weight=None,\n",
       "                                                dual=False, fit_intercept=True,\n",
       "                                                intercept_scaling=1,\n",
       "                                                l1_ratio=None, max_iter=100,\n",
       "                                                multi_class='auto', n_jobs=None,\n",
       "                                                penalty='l2', random_state=None,\n",
       "                                                solver='lbfgs', tol=0.0001,\n",
       "                                                verbose=0, warm_start=False),\n",
       "                   iid='deprecated', n_iter=5, n_jobs=None,\n",
       "                   param_distributions={'C': a...\n",
       "       4.83293024e-03, 1.27427499e-02, 3.35981829e-02, 8.85866790e-02,\n",
       "       2.33572147e-01, 6.15848211e-01, 1.62377674e+00, 4.28133240e+00,\n",
       "       1.12883789e+01, 2.97635144e+01, 7.84759970e+01, 2.06913808e+02,\n",
       "       5.45559478e+02, 1.43844989e+03, 3.79269019e+03, 1.00000000e+04]),\n",
       "                                        'solver': ['liblinear']},\n",
       "                   pre_dispatch='2*n_jobs', random_state=None, refit=True,\n",
       "                   return_train_score=False, scoring=None, verbose=1)"
      ]
     },
     "execution_count": 53,
     "metadata": {},
     "output_type": "execute_result"
    }
   ],
   "source": [
    "# Fit the instance of RandomizedSearchCV\n",
    "rs_log_reg.fit(X_train, y_train)"
   ]
  },
  {
   "cell_type": "code",
   "execution_count": 54,
   "metadata": {},
   "outputs": [
    {
     "data": {
      "text/plain": [
       "{'solver': 'liblinear', 'C': 206.913808111479}"
      ]
     },
     "execution_count": 54,
     "metadata": {},
     "output_type": "execute_result"
    }
   ],
   "source": [
    "# finding the best parameters of RandomizedSeachCV using instance the best_params_\n",
    "\n",
    "rs_log_reg.best_params_"
   ]
  },
  {
   "cell_type": "code",
   "execution_count": 55,
   "metadata": {},
   "outputs": [
    {
     "data": {
      "text/plain": [
       "0.8409785932721713"
      ]
     },
     "execution_count": 55,
     "metadata": {},
     "output_type": "execute_result"
    }
   ],
   "source": [
    "# Score the instance of RandomizedSearchCV using the test data\n",
    "rs_log_reg.score(X_test, y_test)"
   ]
  },
  {
   "cell_type": "code",
   "execution_count": 56,
   "metadata": {},
   "outputs": [],
   "source": [
    "# Instantiate a LogisticRegression classifier using  \n",
    "# the best hyperparameters from RandomizedSearchCV\n",
    "\n",
    "classifier_log_reg = LogisticRegression(solver = \"liblinear\", C = 206.913808111479)"
   ]
  },
  {
   "cell_type": "code",
   "execution_count": 57,
   "metadata": {},
   "outputs": [
    {
     "data": {
      "text/plain": [
       "LogisticRegression(C=206.913808111479, class_weight=None, dual=False,\n",
       "                   fit_intercept=True, intercept_scaling=1, l1_ratio=None,\n",
       "                   max_iter=100, multi_class='auto', n_jobs=None, penalty='l2',\n",
       "                   random_state=None, solver='liblinear', tol=0.0001, verbose=0,\n",
       "                   warm_start=False)"
      ]
     },
     "execution_count": 57,
     "metadata": {},
     "output_type": "execute_result"
    }
   ],
   "source": [
    "# Fit the new instance of LogisticRegression with \n",
    "# the best hyperparameters on the training data \n",
    "classifier_log_reg.fit(X_train, y_train)"
   ]
  },
  {
   "cell_type": "markdown",
   "metadata": {},
   "source": [
    "# Model Evaluation"
   ]
  },
  {
   "cell_type": "code",
   "execution_count": 58,
   "metadata": {},
   "outputs": [],
   "source": [
    "from sklearn.metrics import confusion_matrix, classification_report\n",
    "from sklearn.metrics import precision_score, recall_score, f1_score\n",
    "\n",
    "from sklearn.metrics import roc_curve\n",
    "from sklearn.metrics import plot_roc_curve\n"
   ]
  },
  {
   "cell_type": "code",
   "execution_count": 59,
   "metadata": {},
   "outputs": [],
   "source": [
    "# make predictions on test data and save them\n",
    "y_pred = classifier_log_reg.predict(X_test)"
   ]
  },
  {
   "cell_type": "code",
   "execution_count": 60,
   "metadata": {},
   "outputs": [
    {
     "data": {
      "text/plain": [
       "array([[0.81549078, 0.18450922],\n",
       "       [0.9421923 , 0.0578077 ],\n",
       "       [0.96762587, 0.03237413],\n",
       "       [0.48815453, 0.51184547],\n",
       "       [0.95466643, 0.04533357],\n",
       "       [0.43571119, 0.56428881],\n",
       "       [0.90461576, 0.09538424],\n",
       "       [0.94052994, 0.05947006],\n",
       "       [0.98865078, 0.01134922],\n",
       "       [0.11878293, 0.88121707],\n",
       "       [0.99337028, 0.00662972],\n",
       "       [0.64034315, 0.35965685],\n",
       "       [0.99474742, 0.00525258],\n",
       "       [0.9692402 , 0.0307598 ],\n",
       "       [0.94273925, 0.05726075],\n",
       "       [0.96039503, 0.03960497],\n",
       "       [0.78706771, 0.21293229],\n",
       "       [0.98228017, 0.01771983],\n",
       "       [0.08341336, 0.91658664],\n",
       "       [0.97530126, 0.02469874],\n",
       "       [0.98238662, 0.01761338],\n",
       "       [0.70671519, 0.29328481],\n",
       "       [0.93230827, 0.06769173],\n",
       "       [0.70300431, 0.29699569],\n",
       "       [0.98655881, 0.01344119],\n",
       "       [0.63786153, 0.36213847],\n",
       "       [0.57815448, 0.42184552],\n",
       "       [0.86236381, 0.13763619],\n",
       "       [0.90576157, 0.09423843],\n",
       "       [0.48736844, 0.51263156],\n",
       "       [0.1192995 , 0.8807005 ],\n",
       "       [0.90469065, 0.09530935],\n",
       "       [0.83678434, 0.16321566],\n",
       "       [0.26463902, 0.73536098],\n",
       "       [0.87727757, 0.12272243],\n",
       "       [0.96085627, 0.03914373],\n",
       "       [0.46620225, 0.53379775],\n",
       "       [0.90684187, 0.09315813],\n",
       "       [0.77039302, 0.22960698],\n",
       "       [0.38089678, 0.61910322],\n",
       "       [0.15390394, 0.84609606],\n",
       "       [0.95642623, 0.04357377],\n",
       "       [0.45562077, 0.54437923],\n",
       "       [0.9093771 , 0.0906229 ],\n",
       "       [0.95676155, 0.04323845],\n",
       "       [0.9136492 , 0.0863508 ],\n",
       "       [0.99746883, 0.00253117],\n",
       "       [0.96012966, 0.03987034],\n",
       "       [0.91488495, 0.08511505],\n",
       "       [0.99266337, 0.00733663],\n",
       "       [0.18177048, 0.81822952],\n",
       "       [0.60706492, 0.39293508],\n",
       "       [0.85760654, 0.14239346],\n",
       "       [0.28431773, 0.71568227],\n",
       "       [0.4444544 , 0.5555456 ],\n",
       "       [0.91334015, 0.08665985],\n",
       "       [0.94040814, 0.05959186],\n",
       "       [0.2412435 , 0.7587565 ],\n",
       "       [0.89132432, 0.10867568],\n",
       "       [0.97648214, 0.02351786],\n",
       "       [0.44403675, 0.55596325],\n",
       "       [0.97714866, 0.02285134],\n",
       "       [0.23661961, 0.76338039],\n",
       "       [0.10664462, 0.89335538],\n",
       "       [0.06750159, 0.93249841],\n",
       "       [0.27029566, 0.72970434],\n",
       "       [0.0499656 , 0.9500344 ],\n",
       "       [0.63679229, 0.36320771],\n",
       "       [0.28129038, 0.71870962],\n",
       "       [0.94411322, 0.05588678],\n",
       "       [0.25934038, 0.74065962],\n",
       "       [0.5578042 , 0.4421958 ],\n",
       "       [0.97979835, 0.02020165],\n",
       "       [0.96923679, 0.03076321],\n",
       "       [0.50527706, 0.49472294],\n",
       "       [0.99069847, 0.00930153],\n",
       "       [0.56424877, 0.43575123],\n",
       "       [0.18077226, 0.81922774],\n",
       "       [0.13583903, 0.86416097],\n",
       "       [0.96392821, 0.03607179],\n",
       "       [0.64741604, 0.35258396],\n",
       "       [0.98889836, 0.01110164],\n",
       "       [0.99044213, 0.00955787],\n",
       "       [0.90109916, 0.09890084],\n",
       "       [0.98376273, 0.01623727],\n",
       "       [0.89995773, 0.10004227],\n",
       "       [0.96066372, 0.03933628],\n",
       "       [0.81267739, 0.18732261],\n",
       "       [0.57574816, 0.42425184],\n",
       "       [0.56020928, 0.43979072],\n",
       "       [0.22728181, 0.77271819],\n",
       "       [0.85026916, 0.14973084],\n",
       "       [0.6911881 , 0.3088119 ],\n",
       "       [0.89041115, 0.10958885],\n",
       "       [0.25657669, 0.74342331],\n",
       "       [0.92935584, 0.07064416],\n",
       "       [0.20826821, 0.79173179],\n",
       "       [0.84949418, 0.15050582],\n",
       "       [0.86873673, 0.13126327],\n",
       "       [0.96952376, 0.03047624],\n",
       "       [0.83894111, 0.16105889],\n",
       "       [0.98581409, 0.01418591],\n",
       "       [0.9820923 , 0.0179077 ],\n",
       "       [0.97876913, 0.02123087],\n",
       "       [0.98566395, 0.01433605],\n",
       "       [0.92153479, 0.07846521],\n",
       "       [0.21272463, 0.78727537],\n",
       "       [0.97543258, 0.02456742],\n",
       "       [0.98624717, 0.01375283],\n",
       "       [0.14708026, 0.85291974],\n",
       "       [0.87926525, 0.12073475],\n",
       "       [0.87652899, 0.12347101],\n",
       "       [0.94453184, 0.05546816],\n",
       "       [0.82355309, 0.17644691],\n",
       "       [0.73243911, 0.26756089],\n",
       "       [0.95481414, 0.04518586],\n",
       "       [0.95223048, 0.04776952],\n",
       "       [0.34902616, 0.65097384],\n",
       "       [0.98462757, 0.01537243],\n",
       "       [0.93497821, 0.06502179],\n",
       "       [0.97808071, 0.02191929],\n",
       "       [0.06597029, 0.93402971],\n",
       "       [0.68255919, 0.31744081],\n",
       "       [0.98419057, 0.01580943],\n",
       "       [0.99300703, 0.00699297],\n",
       "       [0.98704538, 0.01295462],\n",
       "       [0.88237662, 0.11762338],\n",
       "       [0.97765442, 0.02234558],\n",
       "       [0.824974  , 0.175026  ],\n",
       "       [0.60156584, 0.39843416],\n",
       "       [0.99311305, 0.00688695],\n",
       "       [0.2291669 , 0.7708331 ],\n",
       "       [0.77600138, 0.22399862],\n",
       "       [0.54747515, 0.45252485],\n",
       "       [0.92339504, 0.07660496],\n",
       "       [0.84152834, 0.15847166],\n",
       "       [0.99019422, 0.00980578],\n",
       "       [0.97700266, 0.02299734],\n",
       "       [0.85876104, 0.14123896],\n",
       "       [0.96526658, 0.03473342],\n",
       "       [0.98431158, 0.01568842],\n",
       "       [0.87869331, 0.12130669],\n",
       "       [0.98737937, 0.01262063],\n",
       "       [0.65173363, 0.34826637],\n",
       "       [0.91233421, 0.08766579],\n",
       "       [0.9111579 , 0.0888421 ],\n",
       "       [0.70673872, 0.29326128],\n",
       "       [0.5017969 , 0.4982031 ],\n",
       "       [0.92385935, 0.07614065],\n",
       "       [0.96392948, 0.03607052],\n",
       "       [0.8006846 , 0.1993154 ],\n",
       "       [0.99163986, 0.00836014],\n",
       "       [0.74214151, 0.25785849],\n",
       "       [0.96927634, 0.03072366],\n",
       "       [0.46279261, 0.53720739],\n",
       "       [0.04225868, 0.95774132],\n",
       "       [0.93868688, 0.06131312],\n",
       "       [0.95792409, 0.04207591],\n",
       "       [0.98826376, 0.01173624],\n",
       "       [0.92594507, 0.07405493],\n",
       "       [0.49549808, 0.50450192],\n",
       "       [0.78652588, 0.21347412],\n",
       "       [0.99288918, 0.00711082],\n",
       "       [0.99414629, 0.00585371],\n",
       "       [0.33941098, 0.66058902],\n",
       "       [0.94004231, 0.05995769],\n",
       "       [0.94072552, 0.05927448],\n",
       "       [0.96816585, 0.03183415],\n",
       "       [0.98884812, 0.01115188],\n",
       "       [0.96022334, 0.03977666],\n",
       "       [0.82445142, 0.17554858],\n",
       "       [0.1916765 , 0.8083235 ],\n",
       "       [0.22228443, 0.77771557],\n",
       "       [0.69010892, 0.30989108],\n",
       "       [0.60623697, 0.39376303],\n",
       "       [0.87397141, 0.12602859],\n",
       "       [0.63732631, 0.36267369],\n",
       "       [0.94109622, 0.05890378],\n",
       "       [0.83479693, 0.16520307],\n",
       "       [0.97897407, 0.02102593],\n",
       "       [0.94521757, 0.05478243],\n",
       "       [0.88698513, 0.11301487],\n",
       "       [0.9748213 , 0.0251787 ],\n",
       "       [0.67446347, 0.32553653],\n",
       "       [0.94942341, 0.05057659],\n",
       "       [0.84079965, 0.15920035],\n",
       "       [0.94241416, 0.05758584],\n",
       "       [0.96276901, 0.03723099],\n",
       "       [0.87866354, 0.12133646],\n",
       "       [0.8452045 , 0.1547955 ],\n",
       "       [0.97860715, 0.02139285],\n",
       "       [0.89484543, 0.10515457],\n",
       "       [0.94896148, 0.05103852],\n",
       "       [0.97401303, 0.02598697],\n",
       "       [0.81395138, 0.18604862],\n",
       "       [0.94358132, 0.05641868],\n",
       "       [0.3610761 , 0.6389239 ],\n",
       "       [0.91875138, 0.08124862],\n",
       "       [0.72030553, 0.27969447],\n",
       "       [0.8128884 , 0.1871116 ],\n",
       "       [0.90855617, 0.09144383],\n",
       "       [0.97220209, 0.02779791],\n",
       "       [0.84724516, 0.15275484],\n",
       "       [0.50501143, 0.49498857],\n",
       "       [0.97884918, 0.02115082],\n",
       "       [0.88554852, 0.11445148],\n",
       "       [0.93382534, 0.06617466],\n",
       "       [0.96844715, 0.03155285],\n",
       "       [0.80880117, 0.19119883],\n",
       "       [0.97801615, 0.02198385],\n",
       "       [0.97733288, 0.02266712],\n",
       "       [0.5784526 , 0.4215474 ],\n",
       "       [0.95447419, 0.04552581],\n",
       "       [0.55033119, 0.44966881],\n",
       "       [0.95598026, 0.04401974],\n",
       "       [0.90780549, 0.09219451],\n",
       "       [0.9626616 , 0.0373384 ],\n",
       "       [0.08952023, 0.91047977],\n",
       "       [0.55171521, 0.44828479],\n",
       "       [0.96555286, 0.03444714],\n",
       "       [0.84400324, 0.15599676],\n",
       "       [0.48656831, 0.51343169],\n",
       "       [0.84901809, 0.15098191],\n",
       "       [0.82503209, 0.17496791],\n",
       "       [0.94510183, 0.05489817],\n",
       "       [0.61794324, 0.38205676],\n",
       "       [0.96021078, 0.03978922],\n",
       "       [0.96739598, 0.03260402],\n",
       "       [0.92731384, 0.07268616],\n",
       "       [0.99188417, 0.00811583],\n",
       "       [0.56253262, 0.43746738],\n",
       "       [0.60730771, 0.39269229],\n",
       "       [0.99888858, 0.00111142],\n",
       "       [0.92202051, 0.07797949],\n",
       "       [0.77845655, 0.22154345],\n",
       "       [0.21572764, 0.78427236],\n",
       "       [0.9544904 , 0.0455096 ],\n",
       "       [0.94560112, 0.05439888],\n",
       "       [0.83703171, 0.16296829],\n",
       "       [0.85224866, 0.14775134],\n",
       "       [0.97816194, 0.02183806],\n",
       "       [0.97157332, 0.02842668],\n",
       "       [0.80399642, 0.19600358],\n",
       "       [0.8787716 , 0.1212284 ],\n",
       "       [0.94321285, 0.05678715],\n",
       "       [0.76183022, 0.23816978],\n",
       "       [0.41486446, 0.58513554],\n",
       "       [0.66182388, 0.33817612],\n",
       "       [0.54062699, 0.45937301],\n",
       "       [0.9795643 , 0.0204357 ],\n",
       "       [0.85093719, 0.14906281],\n",
       "       [0.95253067, 0.04746933],\n",
       "       [0.97198019, 0.02801981],\n",
       "       [0.47255376, 0.52744624],\n",
       "       [0.93186692, 0.06813308],\n",
       "       [0.86599379, 0.13400621],\n",
       "       [0.81681008, 0.18318992],\n",
       "       [0.62399504, 0.37600496],\n",
       "       [0.2679851 , 0.7320149 ],\n",
       "       [0.82404688, 0.17595312],\n",
       "       [0.87712022, 0.12287978],\n",
       "       [0.83241562, 0.16758438],\n",
       "       [0.93544157, 0.06455843],\n",
       "       [0.82302707, 0.17697293],\n",
       "       [0.07944965, 0.92055035],\n",
       "       [0.142356  , 0.857644  ],\n",
       "       [0.65935566, 0.34064434],\n",
       "       [0.92931169, 0.07068831],\n",
       "       [0.98221802, 0.01778198],\n",
       "       [0.97381657, 0.02618343],\n",
       "       [0.51406621, 0.48593379],\n",
       "       [0.90834706, 0.09165294],\n",
       "       [0.91290334, 0.08709666],\n",
       "       [0.99511372, 0.00488628],\n",
       "       [0.89939358, 0.10060642],\n",
       "       [0.29682047, 0.70317953],\n",
       "       [0.03874109, 0.96125891],\n",
       "       [0.9846826 , 0.0153174 ],\n",
       "       [0.13111721, 0.86888279],\n",
       "       [0.96458067, 0.03541933],\n",
       "       [0.83315305, 0.16684695],\n",
       "       [0.98132217, 0.01867783],\n",
       "       [0.97783728, 0.02216272],\n",
       "       [0.98969675, 0.01030325],\n",
       "       [0.99204142, 0.00795858],\n",
       "       [0.7781429 , 0.2218571 ],\n",
       "       [0.64974504, 0.35025496],\n",
       "       [0.91516641, 0.08483359],\n",
       "       [0.97218987, 0.02781013],\n",
       "       [0.95471046, 0.04528954],\n",
       "       [0.98050804, 0.01949196],\n",
       "       [0.24049693, 0.75950307],\n",
       "       [0.90738807, 0.09261193],\n",
       "       [0.04355314, 0.95644686],\n",
       "       [0.40841326, 0.59158674],\n",
       "       [0.32030373, 0.67969627],\n",
       "       [0.82306792, 0.17693208],\n",
       "       [0.39445431, 0.60554569],\n",
       "       [0.90727363, 0.09272637],\n",
       "       [0.22972777, 0.77027223],\n",
       "       [0.60551984, 0.39448016],\n",
       "       [0.95135832, 0.04864168],\n",
       "       [0.30058843, 0.69941157],\n",
       "       [0.92259091, 0.07740909],\n",
       "       [0.41729035, 0.58270965],\n",
       "       [0.06913732, 0.93086268],\n",
       "       [0.44485463, 0.55514537],\n",
       "       [0.77665618, 0.22334382],\n",
       "       [0.99016022, 0.00983978],\n",
       "       [0.99421184, 0.00578816],\n",
       "       [0.7126397 , 0.2873603 ],\n",
       "       [0.91094776, 0.08905224],\n",
       "       [0.85832271, 0.14167729],\n",
       "       [0.99265891, 0.00734109],\n",
       "       [0.86131271, 0.13868729],\n",
       "       [0.79779164, 0.20220836],\n",
       "       [0.90453741, 0.09546259],\n",
       "       [0.98708056, 0.01291944],\n",
       "       [0.42967076, 0.57032924],\n",
       "       [0.41301623, 0.58698377],\n",
       "       [0.38908052, 0.61091948],\n",
       "       [0.86832138, 0.13167862],\n",
       "       [0.80116881, 0.19883119],\n",
       "       [0.75159776, 0.24840224],\n",
       "       [0.95645377, 0.04354623],\n",
       "       [0.98056077, 0.01943923],\n",
       "       [0.16365553, 0.83634447]])"
      ]
     },
     "execution_count": 60,
     "metadata": {},
     "output_type": "execute_result"
    }
   ],
   "source": [
    "# return probrabilities rather than labels\n",
    "classifier_log_reg.predict_proba(X_test)"
   ]
  },
  {
   "cell_type": "code",
   "execution_count": 61,
   "metadata": {},
   "outputs": [
    {
     "data": {
      "text/plain": [
       "array([0, 0, 0, 1, 0], dtype=int64)"
      ]
     },
     "execution_count": 61,
     "metadata": {},
     "output_type": "execute_result"
    }
   ],
   "source": [
    "# compare predict() and predict_proba\n",
    "# taking only first 5 entries\n",
    "\n",
    "classifier_log_reg.predict(X_test[:5])\n"
   ]
  },
  {
   "cell_type": "code",
   "execution_count": 62,
   "metadata": {},
   "outputs": [
    {
     "data": {
      "text/plain": [
       "array([[0.81549078, 0.18450922],\n",
       "       [0.9421923 , 0.0578077 ],\n",
       "       [0.96762587, 0.03237413],\n",
       "       [0.48815453, 0.51184547],\n",
       "       [0.95466643, 0.04533357]])"
      ]
     },
     "execution_count": 62,
     "metadata": {},
     "output_type": "execute_result"
    }
   ],
   "source": [
    "classifier_log_reg.predict_proba(X_test[:5])"
   ]
  },
  {
   "cell_type": "code",
   "execution_count": 63,
   "metadata": {},
   "outputs": [
    {
     "data": {
      "text/plain": [
       "array([[224,  14],\n",
       "       [ 38,  51]], dtype=int64)"
      ]
     },
     "execution_count": 63,
     "metadata": {},
     "output_type": "execute_result"
    }
   ],
   "source": [
    "# create confusion matrix\n",
    "cm = confusion_matrix(y_test, y_pred)\n",
    "cm"
   ]
  },
  {
   "cell_type": "code",
   "execution_count": 64,
   "metadata": {},
   "outputs": [
    {
     "data": {
      "text/plain": [
       "0    238\n",
       "1     89\n",
       "Name: Survived, dtype: int64"
      ]
     },
     "execution_count": 64,
     "metadata": {},
     "output_type": "execute_result"
    }
   ],
   "source": [
    "y_test.value_counts()"
   ]
  },
  {
   "cell_type": "code",
   "execution_count": 65,
   "metadata": {},
   "outputs": [],
   "source": [
    "# import seaborn for improving visualisation of confusion_matrix\n",
    "import seaborn as sns\n"
   ]
  },
  {
   "cell_type": "code",
   "execution_count": 66,
   "metadata": {},
   "outputs": [],
   "source": [
    "# make confusion matrix more visual\n",
    "def plot_conf_mat(y_test, y_pred):\n",
    "    \"\"\"plots confusion matrix using seaborn's heatmap\"\"\"\n",
    "    \n",
    "    fig, ax = plt.subplots(figsize = (3, 3))\n",
    "    ax = sns.heatmap(confusion_matrix(y_test, y_pred),\n",
    "                    annot = True, # Anotate the boxes\n",
    "                     fmt = \"d\", # digit\n",
    "                    cbar = False)\n",
    "    \n",
    "    plt.xlabel(\"true label\")\n",
    "    plt.ylabel(\"predicted label\")\n",
    "    \n",
    "    # Fix the broken annotations (this happened in Matplotlib 3.1.1)\n",
    "    \n",
    "    bottom, top = ax.get_ylim()\n",
    "    ax.set_ylim(bottom + 0.5, top - 0.5)"
   ]
  },
  {
   "cell_type": "code",
   "execution_count": 67,
   "metadata": {},
   "outputs": [
    {
     "data": {
      "image/png": "[encoded data removed]",
      "text/plain": [
       "<Figure size 216x216 with 1 Axes>"
      ]
     },
     "metadata": {
      "needs_background": "light"
     },
     "output_type": "display_data"
    }
   ],
   "source": [
    "# call plot_conf_mat function\n",
    "plot_conf_mat(y_test, y_pred)"
   ]
  },
  {
   "cell_type": "code",
   "execution_count": 68,
   "metadata": {},
   "outputs": [
    {
     "data": {
      "text/html": [
       "<div>\n",
       "<style scoped>\n",
       "    .dataframe tbody tr th:only-of-type {\n",
       "        vertical-align: middle;\n",
       "    }\n",
       "\n",
       "    .dataframe tbody tr th {\n",
       "        vertical-align: top;\n",
       "    }\n",
       "\n",
       "    .dataframe thead th {\n",
       "        text-align: right;\n",
       "    }\n",
       "</style>\n",
       "<table border=\"1\" class=\"dataframe\">\n",
       "  <thead>\n",
       "    <tr style=\"text-align: right;\">\n",
       "      <th></th>\n",
       "      <th>0</th>\n",
       "      <th>1</th>\n",
       "      <th>accuracy</th>\n",
       "      <th>macro avg</th>\n",
       "      <th>weighted avg</th>\n",
       "    </tr>\n",
       "  </thead>\n",
       "  <tbody>\n",
       "    <tr>\n",
       "      <th>precision</th>\n",
       "      <td>0.854962</td>\n",
       "      <td>0.784615</td>\n",
       "      <td>0.840979</td>\n",
       "      <td>0.819789</td>\n",
       "      <td>0.835816</td>\n",
       "    </tr>\n",
       "    <tr>\n",
       "      <th>recall</th>\n",
       "      <td>0.941176</td>\n",
       "      <td>0.573034</td>\n",
       "      <td>0.840979</td>\n",
       "      <td>0.757105</td>\n",
       "      <td>0.840979</td>\n",
       "    </tr>\n",
       "    <tr>\n",
       "      <th>f1-score</th>\n",
       "      <td>0.896000</td>\n",
       "      <td>0.662338</td>\n",
       "      <td>0.840979</td>\n",
       "      <td>0.779169</td>\n",
       "      <td>0.832404</td>\n",
       "    </tr>\n",
       "    <tr>\n",
       "      <th>support</th>\n",
       "      <td>238.000000</td>\n",
       "      <td>89.000000</td>\n",
       "      <td>0.840979</td>\n",
       "      <td>327.000000</td>\n",
       "      <td>327.000000</td>\n",
       "    </tr>\n",
       "  </tbody>\n",
       "</table>\n",
       "</div>"
      ],
      "text/plain": [
       "                    0          1  accuracy   macro avg  weighted avg\n",
       "precision    0.854962   0.784615  0.840979    0.819789      0.835816\n",
       "recall       0.941176   0.573034  0.840979    0.757105      0.840979\n",
       "f1-score     0.896000   0.662338  0.840979    0.779169      0.832404\n",
       "support    238.000000  89.000000  0.840979  327.000000    327.000000"
      ]
     },
     "execution_count": 68,
     "metadata": {},
     "output_type": "execute_result"
    }
   ],
   "source": [
    "# classification report\n",
    "classification_report(y_test, y_pred)\n",
    "# make classification report more visual\n",
    "class_report = pd.DataFrame(classification_report(y_test, y_pred, output_dict = True))\n",
    "class_report"
   ]
  },
  {
   "cell_type": "code",
   "execution_count": 69,
   "metadata": {},
   "outputs": [
    {
     "data": {
      "text/plain": [
       "0.7846153846153846"
      ]
     },
     "execution_count": 69,
     "metadata": {},
     "output_type": "execute_result"
    }
   ],
   "source": [
    "# precision score\n",
    "precision_score(y_test, y_pred)"
   ]
  },
  {
   "cell_type": "code",
   "execution_count": 70,
   "metadata": {},
   "outputs": [
    {
     "data": {
      "text/plain": [
       "0.5730337078651685"
      ]
     },
     "execution_count": 70,
     "metadata": {},
     "output_type": "execute_result"
    }
   ],
   "source": [
    "# recall score\n",
    "recall_score(y_test, y_pred)"
   ]
  },
  {
   "cell_type": "code",
   "execution_count": 71,
   "metadata": {},
   "outputs": [
    {
     "data": {
      "text/plain": [
       "0.6623376623376623"
      ]
     },
     "execution_count": 71,
     "metadata": {},
     "output_type": "execute_result"
    }
   ],
   "source": [
    "# F1 score\n",
    "f1_score(y_test, y_pred)"
   ]
  },
  {
   "cell_type": "markdown",
   "metadata": {},
   "source": [
    "# plot ROC Curve"
   ]
  },
  {
   "cell_type": "code",
   "execution_count": 72,
   "metadata": {},
   "outputs": [
    {
     "data": {
      "text/plain": [
       "<sklearn.metrics._plot.roc_curve.RocCurveDisplay at 0x2a5f6519588>"
      ]
     },
     "execution_count": 72,
     "metadata": {},
     "output_type": "execute_result"
    },
    {
     "data": {
      "image/png": "[encoded data removed]",
      "text/plain": [
       "<Figure size 432x288 with 1 Axes>"
      ]
     },
     "metadata": {
      "needs_background": "light"
     },
     "output_type": "display_data"
    }
   ],
   "source": [
    "plot_roc_curve(estimator = classifier_rf, X= X_test, y = y_test)"
   ]
  },
  {
   "cell_type": "code",
   "execution_count": 73,
   "metadata": {},
   "outputs": [],
   "source": [
    "# another method to plot a ROC curve"
   ]
  },
  {
   "cell_type": "code",
   "execution_count": 74,
   "metadata": {},
   "outputs": [
    {
     "data": {
      "image/png": "[encoded data removed]",
      "text/plain": [
       "<Figure size 432x288 with 1 Axes>"
      ]
     },
     "metadata": {
      "needs_background": "light"
     },
     "output_type": "display_data"
    }
   ],
   "source": [
    "# Make predictions with probabilities\n",
    "y_probs = classifier_rf.predict_proba(X_test)\n",
    "\n",
    "# Keep the probabilites of the positive class only\n",
    "y_probs = y_probs[:, 1]\n",
    "\n",
    "# Calculate fpr, tpr and thresholds\n",
    "fpr, tpr, thresholds = roc_curve(y_test, y_probs)\n",
    "\n",
    "# Check the false positive rate\n",
    "fpr\n",
    "\n",
    "def plot_roc_curve_fun(fpr, tpr):\n",
    "    \"\"\"\n",
    "    Plots a ROC curve given the false positve rate (fpr) and \n",
    "    true postive rate (tpr) of a classifier.\n",
    "    \"\"\"\n",
    "    # plot ROC curve\n",
    "    plt.plot(fpr, tpr, color = 'orange', label = 'ROC')\n",
    "    # Plot line with no predictive power (baseline)\n",
    "    plt.plot([0, 1], [0, 1], color = 'darkblue', linestyle = '--', label = 'Guessing')\n",
    "    # Customize the plot\n",
    "    plt.xlabel('False Positive Rate')\n",
    "    plt.ylabel('True Positive Rate')\n",
    "    plt.title('Reciever Operating Characteristics (ROC) Curve')\n",
    "    plt.legend()\n",
    "    plt.show()\n",
    "    \n",
    "plot_roc_curve_fun(fpr, tpr)"
   ]
  },
  {
   "cell_type": "markdown",
   "metadata": {},
   "source": [
    "The maximum ROC AUC score you can achieve is 1.0 and generally,\n",
    "the closer to 1.0, the better the model."
   ]
  },
  {
   "cell_type": "code",
   "execution_count": 75,
   "metadata": {},
   "outputs": [
    {
     "data": {
      "text/plain": [
       "0.9140307808516666"
      ]
     },
     "execution_count": 75,
     "metadata": {},
     "output_type": "execute_result"
    }
   ],
   "source": [
    "from sklearn.metrics import roc_auc_score\n",
    "roc_auc_score(y_test, y_probs)"
   ]
  },
  {
   "cell_type": "markdown",
   "metadata": {},
   "source": [
    "The most ideal position for a ROC curve to run along the top left corner of the plot. \n",
    "This would mean the model predicts only true positives and no false positives. And would result in a ROC AUC score of 1.0.\n",
    "You can see this by creating a ROC curve using only the y_test labels."
   ]
  },
  {
   "cell_type": "code",
   "execution_count": 76,
   "metadata": {},
   "outputs": [
    {
     "data": {
      "image/png": "[encoded data removed]",
      "text/plain": [
       "<Figure size 432x288 with 1 Axes>"
      ]
     },
     "metadata": {
      "needs_background": "light"
     },
     "output_type": "display_data"
    },
    {
     "data": {
      "text/plain": [
       "1.0"
      ]
     },
     "execution_count": 76,
     "metadata": {},
     "output_type": "execute_result"
    }
   ],
   "source": [
    "# plot perfect ROC curve using y_test same time\n",
    "fpr, tpr, thresholds = roc_curve(y_test, y_test)\n",
    "plot_roc_curve_fun(fpr, tpr)\n",
    "# perfect ROC AUC score\n",
    "roc_auc_score(y_test, y_test) # 1.0 : In reality, a perfect ROC curve is unlikely.\n"
   ]
  },
  {
   "cell_type": "markdown",
   "metadata": {},
   "source": [
    "***************************************************************************"
   ]
  },
  {
   "cell_type": "markdown",
   "metadata": {},
   "source": [
    "# cross-validation\n",
    "We can calculate various evaluation metrics using cross-validation\n",
    "\n",
    "using Scikit-Learn's cross_val_score() function along with the scoring parameter."
   ]
  },
  {
   "cell_type": "code",
   "execution_count": 77,
   "metadata": {},
   "outputs": [],
   "source": [
    "# import cross_val_score\n",
    "from sklearn.model_selection import cross_val_score\n",
    "\n",
    "# By default cross_val_score returns 5 values (cv = 5)\n",
    "\n",
    "cross_val_acc = cross_val_score(classifier_rf,\n",
    "                               X,\n",
    "                               y,\n",
    "                               scoring = \"accuracy\",\n",
    "                               cv = 5)\n"
   ]
  },
  {
   "cell_type": "code",
   "execution_count": 78,
   "metadata": {},
   "outputs": [
    {
     "data": {
      "text/plain": [
       "array([0.26335878, 0.38167939, 0.27586207, 0.86590038, 0.7394636 ])"
      ]
     },
     "execution_count": 78,
     "metadata": {},
     "output_type": "execute_result"
    }
   ],
   "source": [
    "cross_val_acc"
   ]
  },
  {
   "cell_type": "code",
   "execution_count": 79,
   "metadata": {},
   "outputs": [
    {
     "data": {
      "text/plain": [
       "0.5052528443157556"
      ]
     },
     "execution_count": 79,
     "metadata": {},
     "output_type": "execute_result"
    }
   ],
   "source": [
    "# find overall accuracy using mean()\n",
    "cross_val_acc = cross_val_acc.mean()\n",
    "cross_val_acc"
   ]
  },
  {
   "cell_type": "code",
   "execution_count": 80,
   "metadata": {},
   "outputs": [
    {
     "name": "stderr",
     "output_type": "stream",
     "text": [
      "C:\\Users\\hp\\Anaconda3\\envs\\newML\\lib\\site-packages\\sklearn\\metrics\\_classification.py:1268: UndefinedMetricWarning: Precision is ill-defined and being set to 0.0 due to no predicted samples. Use `zero_division` parameter to control this behavior.\n",
      "  _warn_prf(average, modifier, msg_start, len(result))\n"
     ]
    },
    {
     "data": {
      "text/plain": [
       "0.372906716938975"
      ]
     },
     "execution_count": 80,
     "metadata": {},
     "output_type": "execute_result"
    }
   ],
   "source": [
    "# Find the cross-validated precision\n",
    "cross_val_precision = np.mean(cross_val_score(classifier,\n",
    "                                              X,\n",
    "                                              y,\n",
    "                                              scoring=\"precision\",\n",
    "                                              cv=5))\n",
    "\n",
    "cross_val_precision"
   ]
  },
  {
   "cell_type": "code",
   "execution_count": 81,
   "metadata": {},
   "outputs": [
    {
     "data": {
      "text/plain": [
       "0.5470588235294118"
      ]
     },
     "execution_count": 81,
     "metadata": {},
     "output_type": "execute_result"
    }
   ],
   "source": [
    "# Find the cross-validated recall\n",
    "cross_val_recall = np.mean(cross_val_score(classifier,\n",
    "                                           X,\n",
    "                                           y,\n",
    "                                           scoring=\"recall\",\n",
    "                                           cv=5))\n",
    "\n",
    "cross_val_recall"
   ]
  },
  {
   "cell_type": "code",
   "execution_count": 82,
   "metadata": {},
   "outputs": [
    {
     "data": {
      "text/plain": [
       "0.38062113249949003"
      ]
     },
     "execution_count": 82,
     "metadata": {},
     "output_type": "execute_result"
    }
   ],
   "source": [
    "# Find the cross-validated F1 score\n",
    "cross_val_f1 = np.mean(cross_val_score(classifier,\n",
    "                                       X,\n",
    "                                       y,\n",
    "                                       scoring=\"f1\",\n",
    "                                       cv=5))\n",
    "\n",
    "cross_val_f1"
   ]
  },
  {
   "cell_type": "markdown",
   "metadata": {},
   "source": [
    "# Drawing special graph for Algorithm comparison"
   ]
  },
  {
   "cell_type": "code",
   "execution_count": 83,
   "metadata": {},
   "outputs": [],
   "source": [
    "# it specially for drawing special graph for comparing accuracy,presion\n",
    "# recall, f1_score of specific model together to other model\n",
    "from sklearn.metrics import accuracy_score"
   ]
  },
  {
   "cell_type": "code",
   "execution_count": 84,
   "metadata": {},
   "outputs": [],
   "source": [
    "def evaluate_preds(y_true, y_preds):\n",
    "    \"\"\"\n",
    "    Performs evaluation comparison on y_true labels vs. y_pred labels.\n",
    "    \"\"\"\n",
    "    accuracy = accuracy_score(y_true, y_preds)\n",
    "    precision = precision_score(y_true, y_preds)\n",
    "    recall = recall_score(y_true, y_preds)\n",
    "    f1 = f1_score(y_true, y_preds)\n",
    "    metric_dict = {\"accuracy\": round(accuracy, 2),\n",
    "                   \"precision\": round(precision, 2), \n",
    "                   \"recall\": round(recall, 2),\n",
    "                   \"f1\": round(f1, 2)}\n",
    "    print(f\"Acc: {accuracy * 100:.2f}%\")\n",
    "    print(f\"Precision: {precision:.2f}\")\n",
    "    print(f\"Recall: {recall:.2f}\")\n",
    "    print(f\"F1 score: {f1:.2f}\")\n",
    "\n",
    "    return metric_dict\n"
   ]
  },
  {
   "cell_type": "code",
   "execution_count": 85,
   "metadata": {},
   "outputs": [
    {
     "name": "stdout",
     "output_type": "stream",
     "text": [
      "Acc: 86.85%\n",
      "Precision: 0.86\n",
      "Recall: 0.62\n",
      "F1 score: 0.72\n"
     ]
    },
    {
     "data": {
      "text/plain": [
       "{'accuracy': 0.87, 'precision': 0.86, 'recall': 0.62, 'f1': 0.72}"
      ]
     },
     "execution_count": 85,
     "metadata": {},
     "output_type": "execute_result"
    }
   ],
   "source": [
    "# creating baseline matrics\n",
    "# Make predictions\n",
    "# random forest with trees 10\n",
    "# classifier from GridSearchCV\n",
    "y_pred = classifier.predict(X_test)\n",
    "\n",
    "baseline_metrics = evaluate_preds(y_test, y_pred)\n",
    "baseline_metrics\n",
    "#*************************************************************************\n",
    "\n"
   ]
  },
  {
   "cell_type": "code",
   "execution_count": 86,
   "metadata": {},
   "outputs": [
    {
     "data": {
      "text/plain": [
       "RandomForestClassifier(bootstrap=True, ccp_alpha=0.0, class_weight=None,\n",
       "                       criterion='gini', max_depth=None, max_features='auto',\n",
       "                       max_leaf_nodes=None, max_samples=None,\n",
       "                       min_impurity_decrease=0.0, min_impurity_split=None,\n",
       "                       min_samples_leaf=1, min_samples_split=2,\n",
       "                       min_weight_fraction_leaf=0.0, n_estimators=10,\n",
       "                       n_jobs=None, oob_score=False, random_state=42, verbose=0,\n",
       "                       warm_start=False)"
      ]
     },
     "execution_count": 86,
     "metadata": {},
     "output_type": "execute_result"
    }
   ],
   "source": [
    "classifier"
   ]
  },
  {
   "cell_type": "code",
   "execution_count": 97,
   "metadata": {},
   "outputs": [],
   "source": [
    "# Helper function for plotting feature importance\n",
    "import seaborn as sns\n",
    "\n",
    "def plot_features(columns, importances, n=20):\n",
    "    df = (pd.DataFrame({\"features\": columns,\n",
    "                        \"feature_importance\": importances})\n",
    "          .sort_values(\"feature_importance\", ascending=False)\n",
    "          .reset_index(drop=True))\n",
    "    \n",
    "    sns.barplot(x=\"feature_importance\",\n",
    "                y=\"features\",\n",
    "                data=df[:n],\n",
    "                orient=\"h\")\n",
    "    \n"
   ]
  },
  {
   "cell_type": "code",
   "execution_count": 98,
   "metadata": {},
   "outputs": [
    {
     "data": {
      "image/png": "[encoded data removed]",
      "text/plain": [
       "<Figure size 432x288 with 1 Axes>"
      ]
     },
     "metadata": {
      "needs_background": "light"
     },
     "output_type": "display_data"
    }
   ],
   "source": [
    "plot_features(X.columns, classifier.feature_importances_)"
   ]
  },
  {
   "cell_type": "code",
   "execution_count": 99,
   "metadata": {},
   "outputs": [
    {
     "data": {
      "text/plain": [
       "1.0"
      ]
     },
     "execution_count": 99,
     "metadata": {},
     "output_type": "execute_result"
    }
   ],
   "source": [
    "sum(classifier.feature_importances_)"
   ]
  },
  {
   "cell_type": "code",
   "execution_count": 87,
   "metadata": {},
   "outputs": [
    {
     "name": "stdout",
     "output_type": "stream",
     "text": [
      "Acc: 87.46%\n",
      "Precision: 0.85\n",
      "Recall: 0.65\n",
      "F1 score: 0.74\n"
     ]
    },
    {
     "data": {
      "text/plain": [
       "{'accuracy': 0.87, 'precision': 0.85, 'recall': 0.65, 'f1': 0.74}"
      ]
     },
     "execution_count": 87,
     "metadata": {},
     "output_type": "execute_result"
    }
   ],
   "source": [
    "# Create a second classifier\n",
    "# RandomForest with trees 100\n",
    "clf_2 = RandomForestClassifier(n_estimators=100)\n",
    "clf_2.fit(X_train, y_train)\n",
    "# Make predictions\n",
    "y_preds_2 = clf_2.predict(X_test)\n",
    "# Evaluate the 2nd classifier\n",
    "clf_2_metrics = evaluate_preds(y_test, y_preds_2)\n",
    "clf_2_metrics"
   ]
  },
  {
   "cell_type": "code",
   "execution_count": 88,
   "metadata": {},
   "outputs": [
    {
     "data": {
      "text/plain": [
       "RandomForestClassifier(bootstrap=True, ccp_alpha=0.0, class_weight=None,\n",
       "                       criterion='gini', max_depth=None, max_features='auto',\n",
       "                       max_leaf_nodes=None, max_samples=None,\n",
       "                       min_impurity_decrease=0.0, min_impurity_split=None,\n",
       "                       min_samples_leaf=1, min_samples_split=2,\n",
       "                       min_weight_fraction_leaf=0.0, n_estimators=100,\n",
       "                       n_jobs=None, oob_score=False, random_state=None,\n",
       "                       verbose=0, warm_start=False)"
      ]
     },
     "execution_count": 88,
     "metadata": {},
     "output_type": "execute_result"
    }
   ],
   "source": [
    "clf_2"
   ]
  },
  {
   "cell_type": "code",
   "execution_count": 89,
   "metadata": {},
   "outputs": [
    {
     "name": "stdout",
     "output_type": "stream",
     "text": [
      "Acc: 84.10%\n",
      "Precision: 0.78\n",
      "Recall: 0.57\n",
      "F1 score: 0.66\n"
     ]
    },
    {
     "data": {
      "text/plain": [
       "{'accuracy': 0.84, 'precision': 0.78, 'recall': 0.57, 'f1': 0.66}"
      ]
     },
     "execution_count": 89,
     "metadata": {},
     "output_type": "execute_result"
    }
   ],
   "source": [
    "# create third classifier with Logistic regression\n",
    "\n",
    "classifier_log_reg.fit(X_train, y_train)\n",
    "\n",
    "y_pred_log_reg =  classifier_log_reg.predict(X_test)\n",
    "\n",
    "logistic_metrics = evaluate_preds(y_test, y_pred_log_reg )\n",
    "logistic_metrics"
   ]
  },
  {
   "cell_type": "code",
   "execution_count": 90,
   "metadata": {},
   "outputs": [
    {
     "name": "stdout",
     "output_type": "stream",
     "text": [
      "Acc: 74.62%\n",
      "Precision: 0.55\n",
      "Recall: 0.35\n",
      "F1 score: 0.43\n"
     ]
    },
    {
     "data": {
      "text/plain": [
       "{'accuracy': 0.75, 'precision': 0.55, 'recall': 0.35, 'f1': 0.43}"
      ]
     },
     "execution_count": 90,
     "metadata": {},
     "output_type": "execute_result"
    }
   ],
   "source": [
    "# create fourth classifier with KNN\n",
    "\n",
    "knn = KNeighborsClassifier()\n",
    "knn.fit(X_train, y_train)\n",
    "y_pred_knn = knn.predict(X_test)\n",
    "knn_metrics = evaluate_preds(y_test, y_pred_knn)\n",
    "knn_metrics"
   ]
  },
  {
   "cell_type": "code",
   "execution_count": 91,
   "metadata": {},
   "outputs": [
    {
     "name": "stdout",
     "output_type": "stream",
     "text": [
      "Acc: 72.17%\n",
      "Precision: 0.33\n",
      "Recall: 0.02\n",
      "F1 score: 0.04\n"
     ]
    },
    {
     "data": {
      "text/plain": [
       "{'accuracy': 0.72, 'precision': 0.33, 'recall': 0.02, 'f1': 0.04}"
      ]
     },
     "execution_count": 91,
     "metadata": {},
     "output_type": "execute_result"
    }
   ],
   "source": [
    "# create fifth classifier with SVC\n",
    "\n",
    "svc = SVC()\n",
    "svc.fit(X_train, y_train)\n",
    "y_pred_svc = svc.predict(X_test)\n",
    "svc_metrics = evaluate_preds(y_test, y_pred_svc)\n",
    "svc_metrics"
   ]
  },
  {
   "cell_type": "code",
   "execution_count": null,
   "metadata": {},
   "outputs": [],
   "source": []
  },
  {
   "cell_type": "code",
   "execution_count": null,
   "metadata": {},
   "outputs": [],
   "source": []
  },
  {
   "cell_type": "code",
   "execution_count": null,
   "metadata": {},
   "outputs": [],
   "source": []
  },
  {
   "cell_type": "code",
   "execution_count": 92,
   "metadata": {},
   "outputs": [
    {
     "data": {
      "text/plain": [
       "<matplotlib.axes._subplots.AxesSubplot at 0x2a5f66c62c8>"
      ]
     },
     "execution_count": 92,
     "metadata": {},
     "output_type": "execute_result"
    },
    {
     "data": {
      "image/png": "[encoded data removed]",
      "text/plain": [
       "<Figure size 720x360 with 1 Axes>"
      ]
     },
     "metadata": {
      "needs_background": "light"
     },
     "output_type": "display_data"
    }
   ],
   "source": [
    "compare_metrics = pd.DataFrame({\"baseline\" : baseline_metrics,\n",
    "                                \"rf_t100\" : clf_2_metrics,\n",
    "                                \"Logistic_reg\" : logistic_metrics,\n",
    "                                \"KNN\" : knn_metrics,\n",
    "                                \"SVC\" : svc_metrics\n",
    "                                })\n",
    "\n",
    "compare_metrics.plot.bar(figsize = (10, 5))"
   ]
  },
  {
   "cell_type": "markdown",
   "metadata": {},
   "source": [
    "RandomForestClassifier with 20 (baseline) trees and RandomForestClassifier with 100 trees gives best accuracy.\n",
    "\n",
    "RandomForestClassifier with 20 tress (baseline) gives best precision score.\n",
    "\n",
    "so we go through with baseline model that is RandomForestClassifier with 20 tress.\n",
    "\n"
   ]
  },
  {
   "cell_type": "markdown",
   "metadata": {},
   "source": [
    "# Exporting and importing a trained model"
   ]
  },
  {
   "cell_type": "markdown",
   "metadata": {},
   "source": [
    "Once you've trained a model, you may want to export it and save it to file so you can share it or use it elsewhere.\n",
    "\n",
    "One method of exporting and importing models is using the joblib library.\n",
    "\n",
    "In Scikit-Learn, exporting and importing a trained model is known as model persistence."
   ]
  },
  {
   "cell_type": "code",
   "execution_count": 93,
   "metadata": {},
   "outputs": [],
   "source": [
    "# Import the dump and load functions from the joblib library\n",
    "from joblib import dump, load"
   ]
  },
  {
   "cell_type": "code",
   "execution_count": 94,
   "metadata": {},
   "outputs": [
    {
     "data": {
      "text/plain": [
       "['trained-classifier.joblib']"
      ]
     },
     "execution_count": 94,
     "metadata": {},
     "output_type": "execute_result"
    }
   ],
   "source": [
    "# use the dump function to export the trained model to file\n",
    "dump(classifier, 'trained-classifier.joblib')"
   ]
  },
  {
   "cell_type": "code",
   "execution_count": 95,
   "metadata": {},
   "outputs": [],
   "source": [
    "# Use the load function to import the trained model you just exported\n",
    "# Save it to a different variable name to the origial trained model\n",
    "loaded_clf = load(\"trained-classifier.joblib\")"
   ]
  },
  {
   "cell_type": "code",
   "execution_count": 96,
   "metadata": {},
   "outputs": [
    {
     "data": {
      "text/plain": [
       "0.8685015290519877"
      ]
     },
     "execution_count": 96,
     "metadata": {},
     "output_type": "execute_result"
    }
   ],
   "source": [
    "# Evaluate the loaded trained model on the test data\n",
    "loaded_clf.score(X_test, y_test)"
   ]
  },
  {
   "cell_type": "code",
   "execution_count": null,
   "metadata": {},
   "outputs": [],
   "source": []
  }
 ],
 "metadata": {
  "kernelspec": {
   "display_name": "Python 3",
   "language": "python",
   "name": "python3"
  },
  "language_info": {
   "codemirror_mode": {
    "name": "ipython",
    "version": 3
   },
   "file_extension": ".py",
   "mimetype": "text/x-python",
   "name": "python",
   "nbconvert_exporter": "python",
   "pygments_lexer": "ipython3",
   "version": "3.7.5"
  }
 },
 "nbformat": 4,
 "nbformat_minor": 4
}
